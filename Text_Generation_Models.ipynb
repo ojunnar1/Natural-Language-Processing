{
  "nbformat": 4,
  "nbformat_minor": 0,
  "metadata": {
    "kernelspec": {
      "display_name": "Python 3",
      "language": "python",
      "name": "python3"
    },
    "language_info": {
      "codemirror_mode": {
        "name": "ipython",
        "version": 3
      },
      "file_extension": ".py",
      "mimetype": "text/x-python",
      "name": "python",
      "nbconvert_exporter": "python",
      "pygments_lexer": "ipython3",
      "version": "3.7.3"
    },
    "colab": {
      "name": "Text Generation Models.ipynb",
      "provenance": [],
      "collapsed_sections": []
    }
  },
  "cells": [
    {
      "cell_type": "markdown",
      "metadata": {
        "id": "gP3MQ44Z35yO",
        "colab_type": "text"
      },
      "source": [
        "<h1 align=center><font size=10>Text Generation Models</font></h1>"
      ]
    },
    {
      "cell_type": "markdown",
      "metadata": {
        "id": "vB_aUttJ35yR",
        "colab_type": "text"
      },
      "source": [
        "### Table of contents\n",
        "\n",
        "- [Objective](#obj)\n",
        "- [Data](#data)\n",
        "- [Word-based Model for Text Generation](#word_based_model)\n"
      ]
    },
    {
      "cell_type": "markdown",
      "metadata": {
        "id": "LVAYbpv435yS",
        "colab_type": "text"
      },
      "source": [
        "### Objective <a id=\"obj\"></a>\n",
        "\n",
        "In this notebook, we will generate texts using word-based or character-based models in Keras."
      ]
    },
    {
      "cell_type": "markdown",
      "metadata": {
        "id": "hfoCG2E735yT",
        "colab_type": "text"
      },
      "source": [
        "### Data <a id=\"data\"></a>\n",
        "\n"
      ]
    },
    {
      "cell_type": "markdown",
      "metadata": {
        "id": "RI5t4Rq_35yU",
        "colab_type": "text"
      },
      "source": [
        "#### Loading the Shakespeare dataset\n",
        "\n",
        "&#x270d; Loading the dataset of Shakespeare's writing from the following link:\n",
        "https://storage.googleapis.com/download.tensorflow.org/data/shakespeare.txt"
      ]
    },
    {
      "cell_type": "code",
      "metadata": {
        "id": "mmcV8JSn35yV",
        "colab_type": "code",
        "outputId": "b5cefedf-f897-4f78-f1e0-555a028c0b58",
        "colab": {
          "base_uri": "https://localhost:8080/",
          "height": 131
        }
      },
      "source": [
        "from keras.utils.data_utils import get_file\n",
        "\n",
        "path = get_file('shakespeare.txt',\n",
        "                origin = 'https://storage.googleapis.com/download.tensorflow.org/data/shakespeare.txt')\n",
        "\n",
        "with open(path, encoding='utf-8') as f:\n",
        "    text = f.read().lower()\n",
        "print('Length of text: {} characters'.format(len(text)))"
      ],
      "execution_count": 0,
      "outputs": [
        {
          "output_type": "stream",
          "text": [
            "Using TensorFlow backend.\n"
          ],
          "name": "stderr"
        },
        {
          "output_type": "display_data",
          "data": {
            "text/html": [
              "<p style=\"color: red;\">\n",
              "The default version of TensorFlow in Colab will soon switch to TensorFlow 2.x.<br>\n",
              "We recommend you <a href=\"https://www.tensorflow.org/guide/migrate\" target=\"_blank\">upgrade</a> now \n",
              "or ensure your notebook will continue to use TensorFlow 1.x via the <code>%tensorflow_version 1.x</code> magic:\n",
              "<a href=\"https://colab.research.google.com/notebooks/tensorflow_version.ipynb\" target=\"_blank\">more info</a>.</p>\n"
            ],
            "text/plain": [
              "<IPython.core.display.HTML object>"
            ]
          },
          "metadata": {
            "tags": []
          }
        },
        {
          "output_type": "stream",
          "text": [
            "Downloading data from https://storage.googleapis.com/download.tensorflow.org/data/shakespeare.txt\n",
            "1122304/1115394 [==============================] - 0s 0us/step\n",
            "Length of text: 1115394 characters\n"
          ],
          "name": "stdout"
        }
      ]
    },
    {
      "cell_type": "markdown",
      "metadata": {
        "id": "QO0ybaQt35yZ",
        "colab_type": "text"
      },
      "source": [
        "&#x270d; Observing first 250 characters in text."
      ]
    },
    {
      "cell_type": "code",
      "metadata": {
        "id": "6sErS_0w35ya",
        "colab_type": "code",
        "outputId": "af9bec6b-93a3-4215-b3e0-be9085fc03b9",
        "colab": {
          "base_uri": "https://localhost:8080/",
          "height": 272
        }
      },
      "source": [
        "print(text[:250])"
      ],
      "execution_count": 0,
      "outputs": [
        {
          "output_type": "stream",
          "text": [
            "first citizen:\n",
            "before we proceed any further, hear me speak.\n",
            "\n",
            "all:\n",
            "speak, speak.\n",
            "\n",
            "first citizen:\n",
            "you are all resolved rather to die than to famish?\n",
            "\n",
            "all:\n",
            "resolved. resolved.\n",
            "\n",
            "first citizen:\n",
            "first, you know caius marcius is chief enemy to the people.\n",
            "\n"
          ],
          "name": "stdout"
        }
      ]
    },
    {
      "cell_type": "markdown",
      "metadata": {
        "id": "GLDQKDrd35ye",
        "colab_type": "text"
      },
      "source": [
        "Since this dataset is very large, in continue, we only consider portion of that for processing."
      ]
    },
    {
      "cell_type": "code",
      "metadata": {
        "id": "d5v31gyM35ye",
        "colab_type": "code",
        "outputId": "ee8d9b93-be92-4c60-b2bc-b240ad829f1b",
        "colab": {
          "base_uri": "https://localhost:8080/",
          "height": 1000
        }
      },
      "source": [
        "data = text[:5000]\n",
        "\n",
        "print(data)"
      ],
      "execution_count": 0,
      "outputs": [
        {
          "output_type": "stream",
          "text": [
            "first citizen:\n",
            "before we proceed any further, hear me speak.\n",
            "\n",
            "all:\n",
            "speak, speak.\n",
            "\n",
            "first citizen:\n",
            "you are all resolved rather to die than to famish?\n",
            "\n",
            "all:\n",
            "resolved. resolved.\n",
            "\n",
            "first citizen:\n",
            "first, you know caius marcius is chief enemy to the people.\n",
            "\n",
            "all:\n",
            "we know't, we know't.\n",
            "\n",
            "first citizen:\n",
            "let us kill him, and we'll have corn at our own price.\n",
            "is't a verdict?\n",
            "\n",
            "all:\n",
            "no more talking on't; let it be done: away, away!\n",
            "\n",
            "second citizen:\n",
            "one word, good citizens.\n",
            "\n",
            "first citizen:\n",
            "we are accounted poor citizens, the patricians good.\n",
            "what authority surfeits on would relieve us: if they\n",
            "would yield us but the superfluity, while it were\n",
            "wholesome, we might guess they relieved us humanely;\n",
            "but they think we are too dear: the leanness that\n",
            "afflicts us, the object of our misery, is as an\n",
            "inventory to particularise their abundance; our\n",
            "sufferance is a gain to them let us revenge this with\n",
            "our pikes, ere we become rakes: for the gods know i\n",
            "speak this in hunger for bread, not in thirst for revenge.\n",
            "\n",
            "second citizen:\n",
            "would you proceed especially against caius marcius?\n",
            "\n",
            "all:\n",
            "against him first: he's a very dog to the commonalty.\n",
            "\n",
            "second citizen:\n",
            "consider you what services he has done for his country?\n",
            "\n",
            "first citizen:\n",
            "very well; and could be content to give him good\n",
            "report fort, but that he pays himself with being proud.\n",
            "\n",
            "second citizen:\n",
            "nay, but speak not maliciously.\n",
            "\n",
            "first citizen:\n",
            "i say unto you, what he hath done famously, he did\n",
            "it to that end: though soft-conscienced men can be\n",
            "content to say it was for his country he did it to\n",
            "please his mother and to be partly proud; which he\n",
            "is, even till the altitude of his virtue.\n",
            "\n",
            "second citizen:\n",
            "what he cannot help in his nature, you account a\n",
            "vice in him. you must in no way say he is covetous.\n",
            "\n",
            "first citizen:\n",
            "if i must not, i need not be barren of accusations;\n",
            "he hath faults, with surplus, to tire in repetition.\n",
            "what shouts are these? the other side o' the city\n",
            "is risen: why stay we prating here? to the capitol!\n",
            "\n",
            "all:\n",
            "come, come.\n",
            "\n",
            "first citizen:\n",
            "soft! who comes here?\n",
            "\n",
            "second citizen:\n",
            "worthy menenius agrippa; one that hath always loved\n",
            "the people.\n",
            "\n",
            "first citizen:\n",
            "he's one honest enough: would all the rest were so!\n",
            "\n",
            "menenius:\n",
            "what work's, my countrymen, in hand? where go you\n",
            "with bats and clubs? the matter? speak, i pray you.\n",
            "\n",
            "first citizen:\n",
            "our business is not unknown to the senate; they have\n",
            "had inkling this fortnight what we intend to do,\n",
            "which now we'll show 'em in deeds. they say poor\n",
            "suitors have strong breaths: they shall know we\n",
            "have strong arms too.\n",
            "\n",
            "menenius:\n",
            "why, masters, my good friends, mine honest neighbours,\n",
            "will you undo yourselves?\n",
            "\n",
            "first citizen:\n",
            "we cannot, sir, we are undone already.\n",
            "\n",
            "menenius:\n",
            "i tell you, friends, most charitable care\n",
            "have the patricians of you. for your wants,\n",
            "your suffering in this dearth, you may as well\n",
            "strike at the heaven with your staves as lift them\n",
            "against the roman state, whose course will on\n",
            "the way it takes, cracking ten thousand curbs\n",
            "of more strong link asunder than can ever\n",
            "appear in your impediment. for the dearth,\n",
            "the gods, not the patricians, make it, and\n",
            "your knees to them, not arms, must help. alack,\n",
            "you are transported by calamity\n",
            "thither where more attends you, and you slander\n",
            "the helms o' the state, who care for you like fathers,\n",
            "when you curse them as enemies.\n",
            "\n",
            "first citizen:\n",
            "care for us! true, indeed! they ne'er cared for us\n",
            "yet: suffer us to famish, and their store-houses\n",
            "crammed with grain; make edicts for usury, to\n",
            "support usurers; repeal daily any wholesome act\n",
            "established against the rich, and provide more\n",
            "piercing statutes daily, to chain up and restrain\n",
            "the poor. if the wars eat us not up, they will; and\n",
            "there's all the love they bear us.\n",
            "\n",
            "menenius:\n",
            "either you must\n",
            "confess yourselves wondrous malicious,\n",
            "or be accused of folly. i shall tell you\n",
            "a pretty tale: it may be you have heard it;\n",
            "but, since it serves my purpose, i will venture\n",
            "to stale 't a little more.\n",
            "\n",
            "first citizen:\n",
            "well, i'll hear it, sir: yet you must not think to\n",
            "fob off our disgrace with a tale: but, an 't please\n",
            "you, deliver.\n",
            "\n",
            "menenius:\n",
            "there was a time when all the body's members\n",
            "rebell'd against the belly, thus accused it:\n",
            "that only like a gulf it did remain\n",
            "i' the midst o' the body, idle and unactive,\n",
            "still cupboarding the viand, never bearing\n",
            "like labour with the rest, where the other instruments\n",
            "did see and hear, devise, instruct, walk, feel,\n",
            "and, mutually participate, did minister\n",
            "unto the appetite and affection common\n",
            "of the whole body. the belly answer'd--\n",
            "\n",
            "first citizen:\n",
            "well, sir, what answer made the belly?\n",
            "\n",
            "menenius:\n",
            "sir, i shall tell you. with a kind of smile,\n",
            "which ne'er came from the lungs, but even thus--\n",
            "for, look you, i may make the belly smile\n",
            "as well as speak--it tauntingly replied\n",
            "to the discontented members, the mutinous parts\n",
            "that envied his receipt; even so most fitly\n",
            "as you malign our senators for that\n",
            "they are not such as you.\n",
            "\n",
            "first citizen:\n",
            "your belly's answer? what!\n",
            "the kingly-crowned head, the vigilant eye,\n",
            "the counsell\n"
          ],
          "name": "stdout"
        }
      ]
    },
    {
      "cell_type": "markdown",
      "metadata": {
        "id": "AaSkAywe35yh",
        "colab_type": "text"
      },
      "source": [
        "### Word-based Model for Text Generation <a id=\"word_based_model\"></a>\n",
        "\n",
        "#### Preprocessing <a id=\"preprocessing\"></a>"
      ]
    },
    {
      "cell_type": "markdown",
      "metadata": {
        "id": "7PTZotaL35yi",
        "colab_type": "text"
      },
      "source": [
        "&#x270d; Create a Python list of sentences from the data."
      ]
    },
    {
      "cell_type": "code",
      "metadata": {
        "id": "X_LNFiMC6RAR",
        "colab_type": "code",
        "outputId": "27377faf-824c-42fd-d17e-8b4c2c144491",
        "colab": {
          "base_uri": "https://localhost:8080/",
          "height": 68
        }
      },
      "source": [
        "\n",
        "import nltk\n",
        "nltk.download('punkt')"
      ],
      "execution_count": 0,
      "outputs": [
        {
          "output_type": "stream",
          "text": [
            "[nltk_data] Downloading package punkt to /root/nltk_data...\n",
            "[nltk_data]   Unzipping tokenizers/punkt.zip.\n"
          ],
          "name": "stdout"
        },
        {
          "output_type": "execute_result",
          "data": {
            "text/plain": [
              "True"
            ]
          },
          "metadata": {
            "tags": []
          },
          "execution_count": 4
        }
      ]
    },
    {
      "cell_type": "code",
      "metadata": {
        "id": "4XgFwRV135yj",
        "colab_type": "code",
        "outputId": "e327b359-0d16-4858-9911-3d12c01acaf6",
        "colab": {
          "base_uri": "https://localhost:8080/",
          "height": 54
        }
      },
      "source": [
        "\n",
        "corpus = data.split('\\n')\n",
        "\n",
        "print(corpus)"
      ],
      "execution_count": 0,
      "outputs": [
        {
          "output_type": "stream",
          "text": [
            "['first citizen:', 'before we proceed any further, hear me speak.', '', 'all:', 'speak, speak.', '', 'first citizen:', 'you are all resolved rather to die than to famish?', '', 'all:', 'resolved. resolved.', '', 'first citizen:', 'first, you know caius marcius is chief enemy to the people.', '', 'all:', \"we know't, we know't.\", '', 'first citizen:', \"let us kill him, and we'll have corn at our own price.\", \"is't a verdict?\", '', 'all:', \"no more talking on't; let it be done: away, away!\", '', 'second citizen:', 'one word, good citizens.', '', 'first citizen:', 'we are accounted poor citizens, the patricians good.', 'what authority surfeits on would relieve us: if they', 'would yield us but the superfluity, while it were', 'wholesome, we might guess they relieved us humanely;', 'but they think we are too dear: the leanness that', 'afflicts us, the object of our misery, is as an', 'inventory to particularise their abundance; our', 'sufferance is a gain to them let us revenge this with', 'our pikes, ere we become rakes: for the gods know i', 'speak this in hunger for bread, not in thirst for revenge.', '', 'second citizen:', 'would you proceed especially against caius marcius?', '', 'all:', \"against him first: he's a very dog to the commonalty.\", '', 'second citizen:', 'consider you what services he has done for his country?', '', 'first citizen:', 'very well; and could be content to give him good', 'report fort, but that he pays himself with being proud.', '', 'second citizen:', 'nay, but speak not maliciously.', '', 'first citizen:', 'i say unto you, what he hath done famously, he did', 'it to that end: though soft-conscienced men can be', 'content to say it was for his country he did it to', 'please his mother and to be partly proud; which he', 'is, even till the altitude of his virtue.', '', 'second citizen:', 'what he cannot help in his nature, you account a', 'vice in him. you must in no way say he is covetous.', '', 'first citizen:', 'if i must not, i need not be barren of accusations;', 'he hath faults, with surplus, to tire in repetition.', \"what shouts are these? the other side o' the city\", 'is risen: why stay we prating here? to the capitol!', '', 'all:', 'come, come.', '', 'first citizen:', 'soft! who comes here?', '', 'second citizen:', 'worthy menenius agrippa; one that hath always loved', 'the people.', '', 'first citizen:', \"he's one honest enough: would all the rest were so!\", '', 'menenius:', \"what work's, my countrymen, in hand? where go you\", 'with bats and clubs? the matter? speak, i pray you.', '', 'first citizen:', 'our business is not unknown to the senate; they have', 'had inkling this fortnight what we intend to do,', \"which now we'll show 'em in deeds. they say poor\", 'suitors have strong breaths: they shall know we', 'have strong arms too.', '', 'menenius:', 'why, masters, my good friends, mine honest neighbours,', 'will you undo yourselves?', '', 'first citizen:', 'we cannot, sir, we are undone already.', '', 'menenius:', 'i tell you, friends, most charitable care', 'have the patricians of you. for your wants,', 'your suffering in this dearth, you may as well', 'strike at the heaven with your staves as lift them', 'against the roman state, whose course will on', 'the way it takes, cracking ten thousand curbs', 'of more strong link asunder than can ever', 'appear in your impediment. for the dearth,', 'the gods, not the patricians, make it, and', 'your knees to them, not arms, must help. alack,', 'you are transported by calamity', 'thither where more attends you, and you slander', \"the helms o' the state, who care for you like fathers,\", 'when you curse them as enemies.', '', 'first citizen:', \"care for us! true, indeed! they ne'er cared for us\", 'yet: suffer us to famish, and their store-houses', 'crammed with grain; make edicts for usury, to', 'support usurers; repeal daily any wholesome act', 'established against the rich, and provide more', 'piercing statutes daily, to chain up and restrain', 'the poor. if the wars eat us not up, they will; and', \"there's all the love they bear us.\", '', 'menenius:', 'either you must', 'confess yourselves wondrous malicious,', 'or be accused of folly. i shall tell you', 'a pretty tale: it may be you have heard it;', 'but, since it serves my purpose, i will venture', \"to stale 't a little more.\", '', 'first citizen:', \"well, i'll hear it, sir: yet you must not think to\", \"fob off our disgrace with a tale: but, an 't please\", 'you, deliver.', '', 'menenius:', \"there was a time when all the body's members\", \"rebell'd against the belly, thus accused it:\", 'that only like a gulf it did remain', \"i' the midst o' the body, idle and unactive,\", 'still cupboarding the viand, never bearing', 'like labour with the rest, where the other instruments', 'did see and hear, devise, instruct, walk, feel,', 'and, mutually participate, did minister', 'unto the appetite and affection common', \"of the whole body. the belly answer'd--\", '', 'first citizen:', 'well, sir, what answer made the belly?', '', 'menenius:', 'sir, i shall tell you. with a kind of smile,', \"which ne'er came from the lungs, but even thus--\", 'for, look you, i may make the belly smile', 'as well as speak--it tauntingly replied', 'to the discontented members, the mutinous parts', 'that envied his receipt; even so most fitly', 'as you malign our senators for that', 'they are not such as you.', '', 'first citizen:', \"your belly's answer? what!\", 'the kingly-crowned head, the vigilant eye,', 'the counsell']\n"
          ],
          "name": "stdout"
        }
      ]
    },
    {
      "cell_type": "code",
      "metadata": {
        "id": "C2O4LJfm6iya",
        "colab_type": "code",
        "colab": {}
      },
      "source": [
        ""
      ],
      "execution_count": 0,
      "outputs": []
    },
    {
      "cell_type": "markdown",
      "metadata": {
        "id": "593lDrgA35ym",
        "colab_type": "text"
      },
      "source": [
        "&#x270d; Using the Tokenizer class in keras, creating the dictionary of the overall corpus."
      ]
    },
    {
      "cell_type": "code",
      "metadata": {
        "id": "B0FTFjYj35ym",
        "colab_type": "code",
        "colab": {}
      },
      "source": [
        "from tensorflow.keras.preprocessing.text import Tokenizer\n",
        "tokenizer = Tokenizer()\n",
        "tokenizer.fit_on_texts(corpus)"
      ],
      "execution_count": 0,
      "outputs": []
    },
    {
      "cell_type": "markdown",
      "metadata": {
        "id": "v45IC8ze35yq",
        "colab_type": "text"
      },
      "source": [
        "&#x270d; Words  in this corpus?"
      ]
    },
    {
      "cell_type": "code",
      "metadata": {
        "id": "5P_8mfuW35yr",
        "colab_type": "code",
        "outputId": "f8527226-d88d-45c8-b693-d5c33e637aa1",
        "colab": {
          "base_uri": "https://localhost:8080/",
          "height": 71
        }
      },
      "source": [
        "print(tokenizer.word_index)\n",
        "total_words = len(tokenizer.word_index)\n",
        "\n",
        "\n",
        "print('Total number of words:', total_words)"
      ],
      "execution_count": 0,
      "outputs": [
        {
          "output_type": "stream",
          "text": [
            "{'the': 1, 'you': 2, 'citizen': 3, 'to': 4, 'first': 5, 'and': 6, 'it': 7, 'for': 8, 'we': 9, 'us': 10, 'all': 11, 'a': 12, 'they': 13, 'i': 14, 'in': 15, 'not': 16, 'what': 17, 'with': 18, 'he': 19, 'of': 20, 'as': 21, 'speak': 22, 'are': 23, 'is': 24, 'our': 25, 'be': 26, 'but': 27, 'that': 28, 'menenius': 29, 'have': 30, 'second': 31, 'his': 32, 'your': 33, 'more': 34, 'against': 35, 'well': 36, 'did': 37, 'must': 38, 'him': 39, 'good': 40, 'would': 41, 'them': 42, 'this': 43, 'say': 44, 'will': 45, 'sir': 46, 'belly': 47, 'hear': 48, 'resolved': 49, 'know': 50, 'let': 51, 'done': 52, 'one': 53, 'poor': 54, 'patricians': 55, 'if': 56, 'hath': 57, 'which': 58, 'even': 59, \"o'\": 60, 'my': 61, 'where': 62, 'strong': 63, 'shall': 64, 'tell': 65, 'care': 66, 'may': 67, 'make': 68, 'like': 69, 'proceed': 70, 'any': 71, 'than': 72, 'famish': 73, 'caius': 74, 'marcius': 75, 'people': 76, \"know't\": 77, \"we'll\": 78, 'at': 79, 'no': 80, 'away': 81, 'citizens': 82, 'on': 83, 'were': 84, 'wholesome': 85, 'think': 86, 'too': 87, 'an': 88, 'their': 89, 'revenge': 90, 'gods': 91, \"he's\": 92, 'very': 93, 'country': 94, 'content': 95, 'proud': 96, 'unto': 97, 'soft': 98, 'can': 99, 'was': 100, 'please': 101, 'cannot': 102, 'help': 103, 'way': 104, 'other': 105, 'why': 106, 'here': 107, 'come': 108, 'who': 109, 'honest': 110, 'rest': 111, 'so': 112, 'arms': 113, 'friends': 114, 'yourselves': 115, 'most': 116, 'dearth': 117, 'state': 118, 'when': 119, \"ne'er\": 120, 'yet': 121, 'daily': 122, 'up': 123, 'accused': 124, 'tale': 125, \"'t\": 126, 'members': 127, 'thus': 128, 'body': 129, 'answer': 130, 'smile': 131, 'before': 132, 'further': 133, 'me': 134, 'rather': 135, 'die': 136, 'chief': 137, 'enemy': 138, 'kill': 139, 'corn': 140, 'own': 141, 'price': 142, \"is't\": 143, 'verdict': 144, 'talking': 145, \"on't\": 146, 'word': 147, 'accounted': 148, 'authority': 149, 'surfeits': 150, 'relieve': 151, 'yield': 152, 'superfluity': 153, 'while': 154, 'might': 155, 'guess': 156, 'relieved': 157, 'humanely': 158, 'dear': 159, 'leanness': 160, 'afflicts': 161, 'object': 162, 'misery': 163, 'inventory': 164, 'particularise': 165, 'abundance': 166, 'sufferance': 167, 'gain': 168, 'pikes': 169, 'ere': 170, 'become': 171, 'rakes': 172, 'hunger': 173, 'bread': 174, 'thirst': 175, 'especially': 176, 'dog': 177, 'commonalty': 178, 'consider': 179, 'services': 180, 'has': 181, 'could': 182, 'give': 183, 'report': 184, 'fort': 185, 'pays': 186, 'himself': 187, 'being': 188, 'nay': 189, 'maliciously': 190, 'famously': 191, 'end': 192, 'though': 193, 'conscienced': 194, 'men': 195, 'mother': 196, 'partly': 197, 'till': 198, 'altitude': 199, 'virtue': 200, 'nature': 201, 'account': 202, 'vice': 203, 'covetous': 204, 'need': 205, 'barren': 206, 'accusations': 207, 'faults': 208, 'surplus': 209, 'tire': 210, 'repetition': 211, 'shouts': 212, 'these': 213, 'side': 214, 'city': 215, 'risen': 216, 'stay': 217, 'prating': 218, 'capitol': 219, 'comes': 220, 'worthy': 221, 'agrippa': 222, 'always': 223, 'loved': 224, 'enough': 225, \"work's\": 226, 'countrymen': 227, 'hand': 228, 'go': 229, 'bats': 230, 'clubs': 231, 'matter': 232, 'pray': 233, 'business': 234, 'unknown': 235, 'senate': 236, 'had': 237, 'inkling': 238, 'fortnight': 239, 'intend': 240, 'do': 241, 'now': 242, 'show': 243, \"'em\": 244, 'deeds': 245, 'suitors': 246, 'breaths': 247, 'masters': 248, 'mine': 249, 'neighbours': 250, 'undo': 251, 'undone': 252, 'already': 253, 'charitable': 254, 'wants': 255, 'suffering': 256, 'strike': 257, 'heaven': 258, 'staves': 259, 'lift': 260, 'roman': 261, 'whose': 262, 'course': 263, 'takes': 264, 'cracking': 265, 'ten': 266, 'thousand': 267, 'curbs': 268, 'link': 269, 'asunder': 270, 'ever': 271, 'appear': 272, 'impediment': 273, 'knees': 274, 'alack': 275, 'transported': 276, 'by': 277, 'calamity': 278, 'thither': 279, 'attends': 280, 'slander': 281, 'helms': 282, 'fathers': 283, 'curse': 284, 'enemies': 285, 'true': 286, 'indeed': 287, 'cared': 288, 'suffer': 289, 'store': 290, 'houses': 291, 'crammed': 292, 'grain': 293, 'edicts': 294, 'usury': 295, 'support': 296, 'usurers': 297, 'repeal': 298, 'act': 299, 'established': 300, 'rich': 301, 'provide': 302, 'piercing': 303, 'statutes': 304, 'chain': 305, 'restrain': 306, 'wars': 307, 'eat': 308, \"there's\": 309, 'love': 310, 'bear': 311, 'either': 312, 'confess': 313, 'wondrous': 314, 'malicious': 315, 'or': 316, 'folly': 317, 'pretty': 318, 'heard': 319, 'since': 320, 'serves': 321, 'purpose': 322, 'venture': 323, 'stale': 324, 'little': 325, \"i'll\": 326, 'fob': 327, 'off': 328, 'disgrace': 329, 'deliver': 330, 'there': 331, 'time': 332, \"body's\": 333, \"rebell'd\": 334, 'only': 335, 'gulf': 336, 'remain': 337, \"i'\": 338, 'midst': 339, 'idle': 340, 'unactive': 341, 'still': 342, 'cupboarding': 343, 'viand': 344, 'never': 345, 'bearing': 346, 'labour': 347, 'instruments': 348, 'see': 349, 'devise': 350, 'instruct': 351, 'walk': 352, 'feel': 353, 'mutually': 354, 'participate': 355, 'minister': 356, 'appetite': 357, 'affection': 358, 'common': 359, 'whole': 360, \"answer'd\": 361, 'made': 362, 'kind': 363, 'came': 364, 'from': 365, 'lungs': 366, 'look': 367, 'tauntingly': 368, 'replied': 369, 'discontented': 370, 'mutinous': 371, 'parts': 372, 'envied': 373, 'receipt': 374, 'fitly': 375, 'malign': 376, 'senators': 377, 'such': 378, \"belly's\": 379, 'kingly': 380, 'crowned': 381, 'head': 382, 'vigilant': 383, 'eye': 384, 'counsell': 385}\n",
            "Total number of words: 385\n"
          ],
          "name": "stdout"
        }
      ]
    },
    {
      "cell_type": "markdown",
      "metadata": {
        "id": "zLrH6a6235yu",
        "colab_type": "text"
      },
      "source": [
        "&#x270d; Adding one to the total number of words to consider outer vocabulary words."
      ]
    },
    {
      "cell_type": "code",
      "metadata": {
        "id": "zxMoUE0Y35yw",
        "colab_type": "code",
        "outputId": "95d07e05-caad-48e1-d8a6-f3ede58eeb3f",
        "colab": {
          "base_uri": "https://localhost:8080/",
          "height": 34
        }
      },
      "source": [
        "total_words = total_words + 1\n",
        "print(total_words)"
      ],
      "execution_count": 0,
      "outputs": [
        {
          "output_type": "stream",
          "text": [
            "386\n"
          ],
          "name": "stdout"
        }
      ]
    },
    {
      "cell_type": "code",
      "metadata": {
        "id": "UVX2SeIMB5u3",
        "colab_type": "code",
        "outputId": "255ac2e9-ec98-475f-f083-c3a36f547f34",
        "colab": {
          "base_uri": "https://localhost:8080/",
          "height": 34
        }
      },
      "source": [
        "tokenizer.texts_to_sequences([corpus[1]])"
      ],
      "execution_count": 0,
      "outputs": [
        {
          "output_type": "execute_result",
          "data": {
            "text/plain": [
              "[[132, 9, 70, 71, 133, 48, 134, 22]]"
            ]
          },
          "metadata": {
            "tags": []
          },
          "execution_count": 9
        }
      ]
    },
    {
      "cell_type": "markdown",
      "metadata": {
        "id": "FieLXTwY35yy",
        "colab_type": "text"
      },
      "source": [
        "&#x270d; Breaking down the sentences into phrases, the first two words, the first three words, etc."
      ]
    },
    {
      "cell_type": "code",
      "metadata": {
        "id": "sNDew2kq35yz",
        "colab_type": "code",
        "outputId": "58852b31-2c8d-4be9-a155-9f6a61b68a1b",
        "colab": {
          "base_uri": "https://localhost:8080/",
          "height": 54
        }
      },
      "source": [
        "sequences = []\n",
        "for line in corpus:\n",
        "    token_list = tokenizer.texts_to_sequences([line])[0]\n",
        "    for i in range(1, len(token_list)):\n",
        "        sequences.append(token_list[:i+1])\n",
        "print(sequences)    "
      ],
      "execution_count": 0,
      "outputs": [
        {
          "output_type": "stream",
          "text": [
            "[[5, 3], [132, 9], [132, 9, 70], [132, 9, 70, 71], [132, 9, 70, 71, 133], [132, 9, 70, 71, 133, 48], [132, 9, 70, 71, 133, 48, 134], [132, 9, 70, 71, 133, 48, 134, 22], [22, 22], [5, 3], [2, 23], [2, 23, 11], [2, 23, 11, 49], [2, 23, 11, 49, 135], [2, 23, 11, 49, 135, 4], [2, 23, 11, 49, 135, 4, 136], [2, 23, 11, 49, 135, 4, 136, 72], [2, 23, 11, 49, 135, 4, 136, 72, 4], [2, 23, 11, 49, 135, 4, 136, 72, 4, 73], [49, 49], [5, 3], [5, 2], [5, 2, 50], [5, 2, 50, 74], [5, 2, 50, 74, 75], [5, 2, 50, 74, 75, 24], [5, 2, 50, 74, 75, 24, 137], [5, 2, 50, 74, 75, 24, 137, 138], [5, 2, 50, 74, 75, 24, 137, 138, 4], [5, 2, 50, 74, 75, 24, 137, 138, 4, 1], [5, 2, 50, 74, 75, 24, 137, 138, 4, 1, 76], [9, 77], [9, 77, 9], [9, 77, 9, 77], [5, 3], [51, 10], [51, 10, 139], [51, 10, 139, 39], [51, 10, 139, 39, 6], [51, 10, 139, 39, 6, 78], [51, 10, 139, 39, 6, 78, 30], [51, 10, 139, 39, 6, 78, 30, 140], [51, 10, 139, 39, 6, 78, 30, 140, 79], [51, 10, 139, 39, 6, 78, 30, 140, 79, 25], [51, 10, 139, 39, 6, 78, 30, 140, 79, 25, 141], [51, 10, 139, 39, 6, 78, 30, 140, 79, 25, 141, 142], [143, 12], [143, 12, 144], [80, 34], [80, 34, 145], [80, 34, 145, 146], [80, 34, 145, 146, 51], [80, 34, 145, 146, 51, 7], [80, 34, 145, 146, 51, 7, 26], [80, 34, 145, 146, 51, 7, 26, 52], [80, 34, 145, 146, 51, 7, 26, 52, 81], [80, 34, 145, 146, 51, 7, 26, 52, 81, 81], [31, 3], [53, 147], [53, 147, 40], [53, 147, 40, 82], [5, 3], [9, 23], [9, 23, 148], [9, 23, 148, 54], [9, 23, 148, 54, 82], [9, 23, 148, 54, 82, 1], [9, 23, 148, 54, 82, 1, 55], [9, 23, 148, 54, 82, 1, 55, 40], [17, 149], [17, 149, 150], [17, 149, 150, 83], [17, 149, 150, 83, 41], [17, 149, 150, 83, 41, 151], [17, 149, 150, 83, 41, 151, 10], [17, 149, 150, 83, 41, 151, 10, 56], [17, 149, 150, 83, 41, 151, 10, 56, 13], [41, 152], [41, 152, 10], [41, 152, 10, 27], [41, 152, 10, 27, 1], [41, 152, 10, 27, 1, 153], [41, 152, 10, 27, 1, 153, 154], [41, 152, 10, 27, 1, 153, 154, 7], [41, 152, 10, 27, 1, 153, 154, 7, 84], [85, 9], [85, 9, 155], [85, 9, 155, 156], [85, 9, 155, 156, 13], [85, 9, 155, 156, 13, 157], [85, 9, 155, 156, 13, 157, 10], [85, 9, 155, 156, 13, 157, 10, 158], [27, 13], [27, 13, 86], [27, 13, 86, 9], [27, 13, 86, 9, 23], [27, 13, 86, 9, 23, 87], [27, 13, 86, 9, 23, 87, 159], [27, 13, 86, 9, 23, 87, 159, 1], [27, 13, 86, 9, 23, 87, 159, 1, 160], [27, 13, 86, 9, 23, 87, 159, 1, 160, 28], [161, 10], [161, 10, 1], [161, 10, 1, 162], [161, 10, 1, 162, 20], [161, 10, 1, 162, 20, 25], [161, 10, 1, 162, 20, 25, 163], [161, 10, 1, 162, 20, 25, 163, 24], [161, 10, 1, 162, 20, 25, 163, 24, 21], [161, 10, 1, 162, 20, 25, 163, 24, 21, 88], [164, 4], [164, 4, 165], [164, 4, 165, 89], [164, 4, 165, 89, 166], [164, 4, 165, 89, 166, 25], [167, 24], [167, 24, 12], [167, 24, 12, 168], [167, 24, 12, 168, 4], [167, 24, 12, 168, 4, 42], [167, 24, 12, 168, 4, 42, 51], [167, 24, 12, 168, 4, 42, 51, 10], [167, 24, 12, 168, 4, 42, 51, 10, 90], [167, 24, 12, 168, 4, 42, 51, 10, 90, 43], [167, 24, 12, 168, 4, 42, 51, 10, 90, 43, 18], [25, 169], [25, 169, 170], [25, 169, 170, 9], [25, 169, 170, 9, 171], [25, 169, 170, 9, 171, 172], [25, 169, 170, 9, 171, 172, 8], [25, 169, 170, 9, 171, 172, 8, 1], [25, 169, 170, 9, 171, 172, 8, 1, 91], [25, 169, 170, 9, 171, 172, 8, 1, 91, 50], [25, 169, 170, 9, 171, 172, 8, 1, 91, 50, 14], [22, 43], [22, 43, 15], [22, 43, 15, 173], [22, 43, 15, 173, 8], [22, 43, 15, 173, 8, 174], [22, 43, 15, 173, 8, 174, 16], [22, 43, 15, 173, 8, 174, 16, 15], [22, 43, 15, 173, 8, 174, 16, 15, 175], [22, 43, 15, 173, 8, 174, 16, 15, 175, 8], [22, 43, 15, 173, 8, 174, 16, 15, 175, 8, 90], [31, 3], [41, 2], [41, 2, 70], [41, 2, 70, 176], [41, 2, 70, 176, 35], [41, 2, 70, 176, 35, 74], [41, 2, 70, 176, 35, 74, 75], [35, 39], [35, 39, 5], [35, 39, 5, 92], [35, 39, 5, 92, 12], [35, 39, 5, 92, 12, 93], [35, 39, 5, 92, 12, 93, 177], [35, 39, 5, 92, 12, 93, 177, 4], [35, 39, 5, 92, 12, 93, 177, 4, 1], [35, 39, 5, 92, 12, 93, 177, 4, 1, 178], [31, 3], [179, 2], [179, 2, 17], [179, 2, 17, 180], [179, 2, 17, 180, 19], [179, 2, 17, 180, 19, 181], [179, 2, 17, 180, 19, 181, 52], [179, 2, 17, 180, 19, 181, 52, 8], [179, 2, 17, 180, 19, 181, 52, 8, 32], [179, 2, 17, 180, 19, 181, 52, 8, 32, 94], [5, 3], [93, 36], [93, 36, 6], [93, 36, 6, 182], [93, 36, 6, 182, 26], [93, 36, 6, 182, 26, 95], [93, 36, 6, 182, 26, 95, 4], [93, 36, 6, 182, 26, 95, 4, 183], [93, 36, 6, 182, 26, 95, 4, 183, 39], [93, 36, 6, 182, 26, 95, 4, 183, 39, 40], [184, 185], [184, 185, 27], [184, 185, 27, 28], [184, 185, 27, 28, 19], [184, 185, 27, 28, 19, 186], [184, 185, 27, 28, 19, 186, 187], [184, 185, 27, 28, 19, 186, 187, 18], [184, 185, 27, 28, 19, 186, 187, 18, 188], [184, 185, 27, 28, 19, 186, 187, 18, 188, 96], [31, 3], [189, 27], [189, 27, 22], [189, 27, 22, 16], [189, 27, 22, 16, 190], [5, 3], [14, 44], [14, 44, 97], [14, 44, 97, 2], [14, 44, 97, 2, 17], [14, 44, 97, 2, 17, 19], [14, 44, 97, 2, 17, 19, 57], [14, 44, 97, 2, 17, 19, 57, 52], [14, 44, 97, 2, 17, 19, 57, 52, 191], [14, 44, 97, 2, 17, 19, 57, 52, 191, 19], [14, 44, 97, 2, 17, 19, 57, 52, 191, 19, 37], [7, 4], [7, 4, 28], [7, 4, 28, 192], [7, 4, 28, 192, 193], [7, 4, 28, 192, 193, 98], [7, 4, 28, 192, 193, 98, 194], [7, 4, 28, 192, 193, 98, 194, 195], [7, 4, 28, 192, 193, 98, 194, 195, 99], [7, 4, 28, 192, 193, 98, 194, 195, 99, 26], [95, 4], [95, 4, 44], [95, 4, 44, 7], [95, 4, 44, 7, 100], [95, 4, 44, 7, 100, 8], [95, 4, 44, 7, 100, 8, 32], [95, 4, 44, 7, 100, 8, 32, 94], [95, 4, 44, 7, 100, 8, 32, 94, 19], [95, 4, 44, 7, 100, 8, 32, 94, 19, 37], [95, 4, 44, 7, 100, 8, 32, 94, 19, 37, 7], [95, 4, 44, 7, 100, 8, 32, 94, 19, 37, 7, 4], [101, 32], [101, 32, 196], [101, 32, 196, 6], [101, 32, 196, 6, 4], [101, 32, 196, 6, 4, 26], [101, 32, 196, 6, 4, 26, 197], [101, 32, 196, 6, 4, 26, 197, 96], [101, 32, 196, 6, 4, 26, 197, 96, 58], [101, 32, 196, 6, 4, 26, 197, 96, 58, 19], [24, 59], [24, 59, 198], [24, 59, 198, 1], [24, 59, 198, 1, 199], [24, 59, 198, 1, 199, 20], [24, 59, 198, 1, 199, 20, 32], [24, 59, 198, 1, 199, 20, 32, 200], [31, 3], [17, 19], [17, 19, 102], [17, 19, 102, 103], [17, 19, 102, 103, 15], [17, 19, 102, 103, 15, 32], [17, 19, 102, 103, 15, 32, 201], [17, 19, 102, 103, 15, 32, 201, 2], [17, 19, 102, 103, 15, 32, 201, 2, 202], [17, 19, 102, 103, 15, 32, 201, 2, 202, 12], [203, 15], [203, 15, 39], [203, 15, 39, 2], [203, 15, 39, 2, 38], [203, 15, 39, 2, 38, 15], [203, 15, 39, 2, 38, 15, 80], [203, 15, 39, 2, 38, 15, 80, 104], [203, 15, 39, 2, 38, 15, 80, 104, 44], [203, 15, 39, 2, 38, 15, 80, 104, 44, 19], [203, 15, 39, 2, 38, 15, 80, 104, 44, 19, 24], [203, 15, 39, 2, 38, 15, 80, 104, 44, 19, 24, 204], [5, 3], [56, 14], [56, 14, 38], [56, 14, 38, 16], [56, 14, 38, 16, 14], [56, 14, 38, 16, 14, 205], [56, 14, 38, 16, 14, 205, 16], [56, 14, 38, 16, 14, 205, 16, 26], [56, 14, 38, 16, 14, 205, 16, 26, 206], [56, 14, 38, 16, 14, 205, 16, 26, 206, 20], [56, 14, 38, 16, 14, 205, 16, 26, 206, 20, 207], [19, 57], [19, 57, 208], [19, 57, 208, 18], [19, 57, 208, 18, 209], [19, 57, 208, 18, 209, 4], [19, 57, 208, 18, 209, 4, 210], [19, 57, 208, 18, 209, 4, 210, 15], [19, 57, 208, 18, 209, 4, 210, 15, 211], [17, 212], [17, 212, 23], [17, 212, 23, 213], [17, 212, 23, 213, 1], [17, 212, 23, 213, 1, 105], [17, 212, 23, 213, 1, 105, 214], [17, 212, 23, 213, 1, 105, 214, 60], [17, 212, 23, 213, 1, 105, 214, 60, 1], [17, 212, 23, 213, 1, 105, 214, 60, 1, 215], [24, 216], [24, 216, 106], [24, 216, 106, 217], [24, 216, 106, 217, 9], [24, 216, 106, 217, 9, 218], [24, 216, 106, 217, 9, 218, 107], [24, 216, 106, 217, 9, 218, 107, 4], [24, 216, 106, 217, 9, 218, 107, 4, 1], [24, 216, 106, 217, 9, 218, 107, 4, 1, 219], [108, 108], [5, 3], [98, 109], [98, 109, 220], [98, 109, 220, 107], [31, 3], [221, 29], [221, 29, 222], [221, 29, 222, 53], [221, 29, 222, 53, 28], [221, 29, 222, 53, 28, 57], [221, 29, 222, 53, 28, 57, 223], [221, 29, 222, 53, 28, 57, 223, 224], [1, 76], [5, 3], [92, 53], [92, 53, 110], [92, 53, 110, 225], [92, 53, 110, 225, 41], [92, 53, 110, 225, 41, 11], [92, 53, 110, 225, 41, 11, 1], [92, 53, 110, 225, 41, 11, 1, 111], [92, 53, 110, 225, 41, 11, 1, 111, 84], [92, 53, 110, 225, 41, 11, 1, 111, 84, 112], [17, 226], [17, 226, 61], [17, 226, 61, 227], [17, 226, 61, 227, 15], [17, 226, 61, 227, 15, 228], [17, 226, 61, 227, 15, 228, 62], [17, 226, 61, 227, 15, 228, 62, 229], [17, 226, 61, 227, 15, 228, 62, 229, 2], [18, 230], [18, 230, 6], [18, 230, 6, 231], [18, 230, 6, 231, 1], [18, 230, 6, 231, 1, 232], [18, 230, 6, 231, 1, 232, 22], [18, 230, 6, 231, 1, 232, 22, 14], [18, 230, 6, 231, 1, 232, 22, 14, 233], [18, 230, 6, 231, 1, 232, 22, 14, 233, 2], [5, 3], [25, 234], [25, 234, 24], [25, 234, 24, 16], [25, 234, 24, 16, 235], [25, 234, 24, 16, 235, 4], [25, 234, 24, 16, 235, 4, 1], [25, 234, 24, 16, 235, 4, 1, 236], [25, 234, 24, 16, 235, 4, 1, 236, 13], [25, 234, 24, 16, 235, 4, 1, 236, 13, 30], [237, 238], [237, 238, 43], [237, 238, 43, 239], [237, 238, 43, 239, 17], [237, 238, 43, 239, 17, 9], [237, 238, 43, 239, 17, 9, 240], [237, 238, 43, 239, 17, 9, 240, 4], [237, 238, 43, 239, 17, 9, 240, 4, 241], [58, 242], [58, 242, 78], [58, 242, 78, 243], [58, 242, 78, 243, 244], [58, 242, 78, 243, 244, 15], [58, 242, 78, 243, 244, 15, 245], [58, 242, 78, 243, 244, 15, 245, 13], [58, 242, 78, 243, 244, 15, 245, 13, 44], [58, 242, 78, 243, 244, 15, 245, 13, 44, 54], [246, 30], [246, 30, 63], [246, 30, 63, 247], [246, 30, 63, 247, 13], [246, 30, 63, 247, 13, 64], [246, 30, 63, 247, 13, 64, 50], [246, 30, 63, 247, 13, 64, 50, 9], [30, 63], [30, 63, 113], [30, 63, 113, 87], [106, 248], [106, 248, 61], [106, 248, 61, 40], [106, 248, 61, 40, 114], [106, 248, 61, 40, 114, 249], [106, 248, 61, 40, 114, 249, 110], [106, 248, 61, 40, 114, 249, 110, 250], [45, 2], [45, 2, 251], [45, 2, 251, 115], [5, 3], [9, 102], [9, 102, 46], [9, 102, 46, 9], [9, 102, 46, 9, 23], [9, 102, 46, 9, 23, 252], [9, 102, 46, 9, 23, 252, 253], [14, 65], [14, 65, 2], [14, 65, 2, 114], [14, 65, 2, 114, 116], [14, 65, 2, 114, 116, 254], [14, 65, 2, 114, 116, 254, 66], [30, 1], [30, 1, 55], [30, 1, 55, 20], [30, 1, 55, 20, 2], [30, 1, 55, 20, 2, 8], [30, 1, 55, 20, 2, 8, 33], [30, 1, 55, 20, 2, 8, 33, 255], [33, 256], [33, 256, 15], [33, 256, 15, 43], [33, 256, 15, 43, 117], [33, 256, 15, 43, 117, 2], [33, 256, 15, 43, 117, 2, 67], [33, 256, 15, 43, 117, 2, 67, 21], [33, 256, 15, 43, 117, 2, 67, 21, 36], [257, 79], [257, 79, 1], [257, 79, 1, 258], [257, 79, 1, 258, 18], [257, 79, 1, 258, 18, 33], [257, 79, 1, 258, 18, 33, 259], [257, 79, 1, 258, 18, 33, 259, 21], [257, 79, 1, 258, 18, 33, 259, 21, 260], [257, 79, 1, 258, 18, 33, 259, 21, 260, 42], [35, 1], [35, 1, 261], [35, 1, 261, 118], [35, 1, 261, 118, 262], [35, 1, 261, 118, 262, 263], [35, 1, 261, 118, 262, 263, 45], [35, 1, 261, 118, 262, 263, 45, 83], [1, 104], [1, 104, 7], [1, 104, 7, 264], [1, 104, 7, 264, 265], [1, 104, 7, 264, 265, 266], [1, 104, 7, 264, 265, 266, 267], [1, 104, 7, 264, 265, 266, 267, 268], [20, 34], [20, 34, 63], [20, 34, 63, 269], [20, 34, 63, 269, 270], [20, 34, 63, 269, 270, 72], [20, 34, 63, 269, 270, 72, 99], [20, 34, 63, 269, 270, 72, 99, 271], [272, 15], [272, 15, 33], [272, 15, 33, 273], [272, 15, 33, 273, 8], [272, 15, 33, 273, 8, 1], [272, 15, 33, 273, 8, 1, 117], [1, 91], [1, 91, 16], [1, 91, 16, 1], [1, 91, 16, 1, 55], [1, 91, 16, 1, 55, 68], [1, 91, 16, 1, 55, 68, 7], [1, 91, 16, 1, 55, 68, 7, 6], [33, 274], [33, 274, 4], [33, 274, 4, 42], [33, 274, 4, 42, 16], [33, 274, 4, 42, 16, 113], [33, 274, 4, 42, 16, 113, 38], [33, 274, 4, 42, 16, 113, 38, 103], [33, 274, 4, 42, 16, 113, 38, 103, 275], [2, 23], [2, 23, 276], [2, 23, 276, 277], [2, 23, 276, 277, 278], [279, 62], [279, 62, 34], [279, 62, 34, 280], [279, 62, 34, 280, 2], [279, 62, 34, 280, 2, 6], [279, 62, 34, 280, 2, 6, 2], [279, 62, 34, 280, 2, 6, 2, 281], [1, 282], [1, 282, 60], [1, 282, 60, 1], [1, 282, 60, 1, 118], [1, 282, 60, 1, 118, 109], [1, 282, 60, 1, 118, 109, 66], [1, 282, 60, 1, 118, 109, 66, 8], [1, 282, 60, 1, 118, 109, 66, 8, 2], [1, 282, 60, 1, 118, 109, 66, 8, 2, 69], [1, 282, 60, 1, 118, 109, 66, 8, 2, 69, 283], [119, 2], [119, 2, 284], [119, 2, 284, 42], [119, 2, 284, 42, 21], [119, 2, 284, 42, 21, 285], [5, 3], [66, 8], [66, 8, 10], [66, 8, 10, 286], [66, 8, 10, 286, 287], [66, 8, 10, 286, 287, 13], [66, 8, 10, 286, 287, 13, 120], [66, 8, 10, 286, 287, 13, 120, 288], [66, 8, 10, 286, 287, 13, 120, 288, 8], [66, 8, 10, 286, 287, 13, 120, 288, 8, 10], [121, 289], [121, 289, 10], [121, 289, 10, 4], [121, 289, 10, 4, 73], [121, 289, 10, 4, 73, 6], [121, 289, 10, 4, 73, 6, 89], [121, 289, 10, 4, 73, 6, 89, 290], [121, 289, 10, 4, 73, 6, 89, 290, 291], [292, 18], [292, 18, 293], [292, 18, 293, 68], [292, 18, 293, 68, 294], [292, 18, 293, 68, 294, 8], [292, 18, 293, 68, 294, 8, 295], [292, 18, 293, 68, 294, 8, 295, 4], [296, 297], [296, 297, 298], [296, 297, 298, 122], [296, 297, 298, 122, 71], [296, 297, 298, 122, 71, 85], [296, 297, 298, 122, 71, 85, 299], [300, 35], [300, 35, 1], [300, 35, 1, 301], [300, 35, 1, 301, 6], [300, 35, 1, 301, 6, 302], [300, 35, 1, 301, 6, 302, 34], [303, 304], [303, 304, 122], [303, 304, 122, 4], [303, 304, 122, 4, 305], [303, 304, 122, 4, 305, 123], [303, 304, 122, 4, 305, 123, 6], [303, 304, 122, 4, 305, 123, 6, 306], [1, 54], [1, 54, 56], [1, 54, 56, 1], [1, 54, 56, 1, 307], [1, 54, 56, 1, 307, 308], [1, 54, 56, 1, 307, 308, 10], [1, 54, 56, 1, 307, 308, 10, 16], [1, 54, 56, 1, 307, 308, 10, 16, 123], [1, 54, 56, 1, 307, 308, 10, 16, 123, 13], [1, 54, 56, 1, 307, 308, 10, 16, 123, 13, 45], [1, 54, 56, 1, 307, 308, 10, 16, 123, 13, 45, 6], [309, 11], [309, 11, 1], [309, 11, 1, 310], [309, 11, 1, 310, 13], [309, 11, 1, 310, 13, 311], [309, 11, 1, 310, 13, 311, 10], [312, 2], [312, 2, 38], [313, 115], [313, 115, 314], [313, 115, 314, 315], [316, 26], [316, 26, 124], [316, 26, 124, 20], [316, 26, 124, 20, 317], [316, 26, 124, 20, 317, 14], [316, 26, 124, 20, 317, 14, 64], [316, 26, 124, 20, 317, 14, 64, 65], [316, 26, 124, 20, 317, 14, 64, 65, 2], [12, 318], [12, 318, 125], [12, 318, 125, 7], [12, 318, 125, 7, 67], [12, 318, 125, 7, 67, 26], [12, 318, 125, 7, 67, 26, 2], [12, 318, 125, 7, 67, 26, 2, 30], [12, 318, 125, 7, 67, 26, 2, 30, 319], [12, 318, 125, 7, 67, 26, 2, 30, 319, 7], [27, 320], [27, 320, 7], [27, 320, 7, 321], [27, 320, 7, 321, 61], [27, 320, 7, 321, 61, 322], [27, 320, 7, 321, 61, 322, 14], [27, 320, 7, 321, 61, 322, 14, 45], [27, 320, 7, 321, 61, 322, 14, 45, 323], [4, 324], [4, 324, 126], [4, 324, 126, 12], [4, 324, 126, 12, 325], [4, 324, 126, 12, 325, 34], [5, 3], [36, 326], [36, 326, 48], [36, 326, 48, 7], [36, 326, 48, 7, 46], [36, 326, 48, 7, 46, 121], [36, 326, 48, 7, 46, 121, 2], [36, 326, 48, 7, 46, 121, 2, 38], [36, 326, 48, 7, 46, 121, 2, 38, 16], [36, 326, 48, 7, 46, 121, 2, 38, 16, 86], [36, 326, 48, 7, 46, 121, 2, 38, 16, 86, 4], [327, 328], [327, 328, 25], [327, 328, 25, 329], [327, 328, 25, 329, 18], [327, 328, 25, 329, 18, 12], [327, 328, 25, 329, 18, 12, 125], [327, 328, 25, 329, 18, 12, 125, 27], [327, 328, 25, 329, 18, 12, 125, 27, 88], [327, 328, 25, 329, 18, 12, 125, 27, 88, 126], [327, 328, 25, 329, 18, 12, 125, 27, 88, 126, 101], [2, 330], [331, 100], [331, 100, 12], [331, 100, 12, 332], [331, 100, 12, 332, 119], [331, 100, 12, 332, 119, 11], [331, 100, 12, 332, 119, 11, 1], [331, 100, 12, 332, 119, 11, 1, 333], [331, 100, 12, 332, 119, 11, 1, 333, 127], [334, 35], [334, 35, 1], [334, 35, 1, 47], [334, 35, 1, 47, 128], [334, 35, 1, 47, 128, 124], [334, 35, 1, 47, 128, 124, 7], [28, 335], [28, 335, 69], [28, 335, 69, 12], [28, 335, 69, 12, 336], [28, 335, 69, 12, 336, 7], [28, 335, 69, 12, 336, 7, 37], [28, 335, 69, 12, 336, 7, 37, 337], [338, 1], [338, 1, 339], [338, 1, 339, 60], [338, 1, 339, 60, 1], [338, 1, 339, 60, 1, 129], [338, 1, 339, 60, 1, 129, 340], [338, 1, 339, 60, 1, 129, 340, 6], [338, 1, 339, 60, 1, 129, 340, 6, 341], [342, 343], [342, 343, 1], [342, 343, 1, 344], [342, 343, 1, 344, 345], [342, 343, 1, 344, 345, 346], [69, 347], [69, 347, 18], [69, 347, 18, 1], [69, 347, 18, 1, 111], [69, 347, 18, 1, 111, 62], [69, 347, 18, 1, 111, 62, 1], [69, 347, 18, 1, 111, 62, 1, 105], [69, 347, 18, 1, 111, 62, 1, 105, 348], [37, 349], [37, 349, 6], [37, 349, 6, 48], [37, 349, 6, 48, 350], [37, 349, 6, 48, 350, 351], [37, 349, 6, 48, 350, 351, 352], [37, 349, 6, 48, 350, 351, 352, 353], [6, 354], [6, 354, 355], [6, 354, 355, 37], [6, 354, 355, 37, 356], [97, 1], [97, 1, 357], [97, 1, 357, 6], [97, 1, 357, 6, 358], [97, 1, 357, 6, 358, 359], [20, 1], [20, 1, 360], [20, 1, 360, 129], [20, 1, 360, 129, 1], [20, 1, 360, 129, 1, 47], [20, 1, 360, 129, 1, 47, 361], [5, 3], [36, 46], [36, 46, 17], [36, 46, 17, 130], [36, 46, 17, 130, 362], [36, 46, 17, 130, 362, 1], [36, 46, 17, 130, 362, 1, 47], [46, 14], [46, 14, 64], [46, 14, 64, 65], [46, 14, 64, 65, 2], [46, 14, 64, 65, 2, 18], [46, 14, 64, 65, 2, 18, 12], [46, 14, 64, 65, 2, 18, 12, 363], [46, 14, 64, 65, 2, 18, 12, 363, 20], [46, 14, 64, 65, 2, 18, 12, 363, 20, 131], [58, 120], [58, 120, 364], [58, 120, 364, 365], [58, 120, 364, 365, 1], [58, 120, 364, 365, 1, 366], [58, 120, 364, 365, 1, 366, 27], [58, 120, 364, 365, 1, 366, 27, 59], [58, 120, 364, 365, 1, 366, 27, 59, 128], [8, 367], [8, 367, 2], [8, 367, 2, 14], [8, 367, 2, 14, 67], [8, 367, 2, 14, 67, 68], [8, 367, 2, 14, 67, 68, 1], [8, 367, 2, 14, 67, 68, 1, 47], [8, 367, 2, 14, 67, 68, 1, 47, 131], [21, 36], [21, 36, 21], [21, 36, 21, 22], [21, 36, 21, 22, 7], [21, 36, 21, 22, 7, 368], [21, 36, 21, 22, 7, 368, 369], [4, 1], [4, 1, 370], [4, 1, 370, 127], [4, 1, 370, 127, 1], [4, 1, 370, 127, 1, 371], [4, 1, 370, 127, 1, 371, 372], [28, 373], [28, 373, 32], [28, 373, 32, 374], [28, 373, 32, 374, 59], [28, 373, 32, 374, 59, 112], [28, 373, 32, 374, 59, 112, 116], [28, 373, 32, 374, 59, 112, 116, 375], [21, 2], [21, 2, 376], [21, 2, 376, 25], [21, 2, 376, 25, 377], [21, 2, 376, 25, 377, 8], [21, 2, 376, 25, 377, 8, 28], [13, 23], [13, 23, 16], [13, 23, 16, 378], [13, 23, 16, 378, 21], [13, 23, 16, 378, 21, 2], [5, 3], [33, 379], [33, 379, 130], [33, 379, 130, 17], [1, 380], [1, 380, 381], [1, 380, 381, 382], [1, 380, 381, 382, 1], [1, 380, 381, 382, 1, 383], [1, 380, 381, 382, 1, 383, 384], [1, 385]]\n"
          ],
          "name": "stdout"
        }
      ]
    },
    {
      "cell_type": "markdown",
      "metadata": {
        "id": "3gzAyQfR35y2",
        "colab_type": "text"
      },
      "source": [
        "&#x270d; Length of the longest sentence in the corpus."
      ]
    },
    {
      "cell_type": "code",
      "metadata": {
        "id": "dWhDUUAU35y2",
        "colab_type": "code",
        "outputId": "323cd3c1-88c3-4444-d389-9ccb3a912495",
        "colab": {
          "base_uri": "https://localhost:8080/",
          "height": 34
        }
      },
      "source": [
        "max_sequence_length = max([len(x) for x in sequences])\n",
        "print(max_sequence_length)"
      ],
      "execution_count": 0,
      "outputs": [
        {
          "output_type": "stream",
          "text": [
            "12\n"
          ],
          "name": "stdout"
        }
      ]
    },
    {
      "cell_type": "code",
      "metadata": {
        "id": "c7zwfqSfCNBN",
        "colab_type": "code",
        "outputId": "86bac453-e639-4ada-a3d8-8b742296dfe5",
        "colab": {
          "base_uri": "https://localhost:8080/",
          "height": 34
        }
      },
      "source": [
        "print(len(max(sequences, key=lambda i: len(i))))"
      ],
      "execution_count": 0,
      "outputs": [
        {
          "output_type": "stream",
          "text": [
            "12\n"
          ],
          "name": "stdout"
        }
      ]
    },
    {
      "cell_type": "markdown",
      "metadata": {
        "id": "lTxWkj1r35y7",
        "colab_type": "text"
      },
      "source": [
        "&#x270d; Pre-padding sequences with zero to make it easier to extract the labels."
      ]
    },
    {
      "cell_type": "code",
      "metadata": {
        "id": "6QGO5RRz35y9",
        "colab_type": "code",
        "outputId": "23bb9b4e-55a1-4037-9207-c962dc2bb9c7",
        "colab": {
          "base_uri": "https://localhost:8080/",
          "height": 170
        }
      },
      "source": [
        "from tensorflow.keras.preprocessing.sequence import pad_sequences\n",
        "import numpy as np\n",
        "\n",
        "sequences_padded = pad_sequences(sequences, maxlen= max_sequence_length, padding='pre')\n",
        "print(type(sequences_padded))\n",
        "sequences_padded = np.array(sequences_padded)\n",
        "print(sequences_padded)\n",
        "print(sequences_padded.shape)"
      ],
      "execution_count": 0,
      "outputs": [
        {
          "output_type": "stream",
          "text": [
            "<class 'numpy.ndarray'>\n",
            "[[  0   0   0 ...   0   5   3]\n",
            " [  0   0   0 ...   0 132   9]\n",
            " [  0   0   0 ... 132   9  70]\n",
            " ...\n",
            " [  0   0   0 ... 382   1 383]\n",
            " [  0   0   0 ...   1 383 384]\n",
            " [  0   0   0 ...   0   1 385]]\n",
            "(748, 12)\n"
          ],
          "name": "stdout"
        }
      ]
    },
    {
      "cell_type": "markdown",
      "metadata": {
        "id": "7Qb6u8DM35zA",
        "colab_type": "text"
      },
      "source": [
        "&#x270d; For each given sentence, taking all tokens except the last token as the input values $X$, and then using the last token as its label $y$."
      ]
    },
    {
      "cell_type": "code",
      "metadata": {
        "id": "nnKLW7kK35zA",
        "colab_type": "code",
        "colab": {}
      },
      "source": [
        "X = sequences_padded[:,:-1]\n",
        "y = sequences_padded[:,-1]"
      ],
      "execution_count": 0,
      "outputs": []
    },
    {
      "cell_type": "code",
      "metadata": {
        "id": "_SSTZKaDDD-4",
        "colab_type": "code",
        "colab": {}
      },
      "source": [
        ""
      ],
      "execution_count": 0,
      "outputs": []
    },
    {
      "cell_type": "markdown",
      "metadata": {
        "id": "_-7MLLyL35zD",
        "colab_type": "text"
      },
      "source": [
        "&#x270d; Using _to_categorical_ class in keras, one-hot encode the labels."
      ]
    },
    {
      "cell_type": "code",
      "metadata": {
        "id": "FZe1SM_m35zE",
        "colab_type": "code",
        "outputId": "4db7b37a-2f15-49a7-c3d3-f2792cb9165e",
        "colab": {
          "base_uri": "https://localhost:8080/",
          "height": 51
        }
      },
      "source": [
        "from tensorflow.keras.utils import to_categorical\n",
        "\n",
        "y = to_categorical(y, num_classes= total_words)\n",
        "print(y.shape)\n",
        "print(X.shape)"
      ],
      "execution_count": 0,
      "outputs": [
        {
          "output_type": "stream",
          "text": [
            "(748, 386)\n",
            "(748, 11)\n"
          ],
          "name": "stdout"
        }
      ]
    },
    {
      "cell_type": "code",
      "metadata": {
        "id": "LJfYVULoEckb",
        "colab_type": "code",
        "outputId": "b770ef33-6185-4eb5-a755-763763da9ee8",
        "colab": {
          "base_uri": "https://localhost:8080/",
          "height": 68
        }
      },
      "source": [
        "a = np.array([1,2,3])\n",
        "print(to_categorical(a, num_classes=4))"
      ],
      "execution_count": 0,
      "outputs": [
        {
          "output_type": "stream",
          "text": [
            "[[0. 1. 0. 0.]\n",
            " [0. 0. 1. 0.]\n",
            " [0. 0. 0. 1.]]\n"
          ],
          "name": "stdout"
        }
      ]
    },
    {
      "cell_type": "markdown",
      "metadata": {
        "id": "kFueGyqc35zH",
        "colab_type": "text"
      },
      "source": [
        "#### Build the Model <a id=\"preprocessing\"></a>"
      ]
    },
    {
      "cell_type": "markdown",
      "metadata": {
        "id": "tROOrV4935zH",
        "colab_type": "text"
      },
      "source": [
        "#### LSTM <a id=\"lstm\"></a>"
      ]
    },
    {
      "cell_type": "markdown",
      "metadata": {
        "id": "QzAi8PX735zI",
        "colab_type": "text"
      },
      "source": [
        "&#x270d; Creating a model with LSTM nodes."
      ]
    },
    {
      "cell_type": "code",
      "metadata": {
        "id": "19uJhqtY35zJ",
        "colab_type": "code",
        "outputId": "a44cf502-46c1-4a6b-94c5-23a3d4972ddf",
        "colab": {
          "base_uri": "https://localhost:8080/",
          "height": 377
        }
      },
      "source": [
        "from tensorflow.keras.models import Sequential\n",
        "from tensorflow.keras.layers import Embedding, LSTM, Dense\n",
        "\n",
        "model = Sequential()\n",
        "\n",
        "model.add(Embedding(total_words, 64, input_length=max_sequence_length-1))\n",
        "\n",
        "model.add(LSTM(150))\n",
        "\n",
        "model.add(Dense(total_words, activation='softmax'))\n",
        "\n",
        "model.summary()"
      ],
      "execution_count": 0,
      "outputs": [
        {
          "output_type": "stream",
          "text": [
            "WARNING:tensorflow:From /usr/local/lib/python3.6/dist-packages/tensorflow_core/python/keras/initializers.py:119: calling RandomUniform.__init__ (from tensorflow.python.ops.init_ops) with dtype is deprecated and will be removed in a future version.\n",
            "Instructions for updating:\n",
            "Call initializer instance with the dtype argument instead of passing it to the constructor\n",
            "WARNING:tensorflow:From /usr/local/lib/python3.6/dist-packages/tensorflow_core/python/ops/resource_variable_ops.py:1630: calling BaseResourceVariable.__init__ (from tensorflow.python.ops.resource_variable_ops) with constraint is deprecated and will be removed in a future version.\n",
            "Instructions for updating:\n",
            "If using Keras pass *_constraint arguments to layers.\n",
            "Model: \"sequential\"\n",
            "_________________________________________________________________\n",
            "Layer (type)                 Output Shape              Param #   \n",
            "=================================================================\n",
            "embedding (Embedding)        (None, 11, 64)            24704     \n",
            "_________________________________________________________________\n",
            "lstm (LSTM)                  (None, 150)               129000    \n",
            "_________________________________________________________________\n",
            "dense (Dense)                (None, 386)               58286     \n",
            "=================================================================\n",
            "Total params: 211,990\n",
            "Trainable params: 211,990\n",
            "Non-trainable params: 0\n",
            "_________________________________________________________________\n"
          ],
          "name": "stdout"
        }
      ]
    },
    {
      "cell_type": "markdown",
      "metadata": {
        "id": "1STKs4ct35zM",
        "colab_type": "text"
      },
      "source": [
        "&#x270d; Compile and fit your model."
      ]
    },
    {
      "cell_type": "code",
      "metadata": {
        "id": "W3i8vMPN35zP",
        "colab_type": "code",
        "outputId": "13b804d5-0a67-40e7-ad10-75f93f9ae624",
        "colab": {
          "base_uri": "https://localhost:8080/",
          "height": 88
        }
      },
      "source": [
        "model.compile(loss='categorical_crossentropy', optimizer='adam', metrics=['accuracy'])\n",
        "history = model.fit(X,y, epochs=100, verbose=0)"
      ],
      "execution_count": 0,
      "outputs": [
        {
          "output_type": "stream",
          "text": [
            "WARNING:tensorflow:From /usr/local/lib/python3.6/dist-packages/tensorflow_core/python/ops/math_grad.py:1424: where (from tensorflow.python.ops.array_ops) is deprecated and will be removed in a future version.\n",
            "Instructions for updating:\n",
            "Use tf.where in 2.0, which has the same broadcast rule as np.where\n"
          ],
          "name": "stdout"
        }
      ]
    },
    {
      "cell_type": "markdown",
      "metadata": {
        "id": "QfK0DilN35zT",
        "colab_type": "text"
      },
      "source": [
        "&#x270d; Plotting loss and accuracy over training epochs."
      ]
    },
    {
      "cell_type": "code",
      "metadata": {
        "id": "FpTkHdaA35zU",
        "colab_type": "code",
        "outputId": "809607d2-f9fe-4b66-d614-199cc8794720",
        "colab": {
          "base_uri": "https://localhost:8080/",
          "height": 411
        }
      },
      "source": [
        "import matplotlib.pyplot as plt\n",
        "%matplotlib inline\n",
        "\n",
        "def plot_model(history):\n",
        "    loss_train = history.history['loss']\n",
        "    acc_train = history.history['acc']\n",
        "\n",
        "    epochs = range(1, len(loss_train)+1)\n",
        "\n",
        "    plt.figure(figsize=(14,6))\n",
        "    plt.subplot(1,2,1)\n",
        "    plt.plot(epochs, loss_train,'b')\n",
        "    plt.ylabel('Loss')\n",
        "    plt.xlabel('Epoch')\n",
        "    plt.legend(['Training'], loc='best')\n",
        "\n",
        "    plt.subplot(1,2,2)\n",
        "    plt.plot(epochs, acc_train,'r')\n",
        "    plt.ylabel('Accuracy')\n",
        "    plt.xlabel('Epoch')\n",
        "    plt.legend(['Training'], loc='best')\n",
        "    plt.show()\n",
        "    \n",
        "plot_model(history)"
      ],
      "execution_count": 0,
      "outputs": [
        {
          "output_type": "display_data",
          "data": {
            "image/png": "[encoded data removed]",
            "text/plain": [
              "<Figure size 1008x432 with 2 Axes>"
            ]
          },
          "metadata": {
            "tags": []
          }
        }
      ]
    },
    {
      "cell_type": "markdown",
      "metadata": {
        "id": "OLSsIwFY35zg",
        "colab_type": "text"
      },
      "source": [
        "&#x270d; Now, let us take a look at predicting words using the model that we trained. We are going to ask it to generate the next 50 words for the given seed text."
      ]
    },
    {
      "cell_type": "code",
      "metadata": {
        "id": "HA_p9Zyo35zh",
        "colab_type": "code",
        "outputId": "7d162a5b-2945-4e40-ddbb-d74b6c9d694c",
        "colab": {
          "base_uri": "https://localhost:8080/",
          "height": 54
        }
      },
      "source": [
        "seed_text = \"I'm suffering in this dearth\"\n",
        "next_words = 50\n",
        "\n",
        "for _ in range(next_words):\n",
        "    # Create a token lists using tokenizer text sequences of the seed text\n",
        "    token_list = tokenizer.texts_to_sequences([seed_text])[0]\n",
        "    \n",
        "    # Pre-pad the token list with the length of max_sequence_length-1\n",
        "    token_list_padded = pad_sequences([token_list], maxlen=max_sequence_length-1, padding='pre')\n",
        "    \n",
        "    # Predict the classe for the given token list \n",
        "    predicted = model.predict_classes(token_list_padded, verbose=0)\n",
        "\n",
        "    # Turn the token back into a word and add that to the seed text\n",
        "    output_word = \"\"\n",
        "    for word, index in tokenizer.word_index.items():\n",
        "        if index == predicted:\n",
        "            output_word = word\n",
        "            break\n",
        "    seed_text += \" \" + output_word\n",
        "    \n",
        "print(seed_text)"
      ],
      "execution_count": 0,
      "outputs": [
        {
          "output_type": "stream",
          "text": [
            "I'm suffering in this dearth you may as well as well as as as as as well with well with lift them away away away it undo yourselves very dog to the commonalty proud which own please price price please fathers price price with heard with repetition price it price price to say to that\n"
          ],
          "name": "stdout"
        }
      ]
    },
    {
      "cell_type": "markdown",
      "metadata": {
        "id": "Gf7XlvS435zj",
        "colab_type": "text"
      },
      "source": [
        "#### Bidirectional LSTM <a id=\"bi_lstm\"></a>\n",
        "\n",
        "&#x270d; Create a model with Bidirectional LSTM nodes."
      ]
    },
    {
      "cell_type": "code",
      "metadata": {
        "id": "DHnu67Zg35zk",
        "colab_type": "code",
        "outputId": "db4a2ff8-c244-4ba2-f2a8-e43790a80678",
        "colab": {
          "base_uri": "https://localhost:8080/",
          "height": 428
        }
      },
      "source": [
        "from tensorflow.keras.layers import Bidirectional\n",
        "model = Sequential()\n",
        "model.add(Embedding(total_words, 100, input_length=max_sequence_length-1))\n",
        "model.add(Bidirectional(LSTM(150)))\n",
        "model.add(Dense(total_words, activation='softmax'))\n",
        "\n",
        "model.summary()"
      ],
      "execution_count": 0,
      "outputs": [
        {
          "output_type": "stream",
          "text": [
            "WARNING:tensorflow:From /usr/local/lib/python3.6/dist-packages/tensorflow_core/python/ops/init_ops.py:97: calling GlorotUniform.__init__ (from tensorflow.python.ops.init_ops) with dtype is deprecated and will be removed in a future version.\n",
            "Instructions for updating:\n",
            "Call initializer instance with the dtype argument instead of passing it to the constructor\n",
            "WARNING:tensorflow:From /usr/local/lib/python3.6/dist-packages/tensorflow_core/python/ops/init_ops.py:97: calling Orthogonal.__init__ (from tensorflow.python.ops.init_ops) with dtype is deprecated and will be removed in a future version.\n",
            "Instructions for updating:\n",
            "Call initializer instance with the dtype argument instead of passing it to the constructor\n",
            "WARNING:tensorflow:From /usr/local/lib/python3.6/dist-packages/tensorflow_core/python/ops/init_ops.py:97: calling Zeros.__init__ (from tensorflow.python.ops.init_ops) with dtype is deprecated and will be removed in a future version.\n",
            "Instructions for updating:\n",
            "Call initializer instance with the dtype argument instead of passing it to the constructor\n",
            "Model: \"sequential_1\"\n",
            "_________________________________________________________________\n",
            "Layer (type)                 Output Shape              Param #   \n",
            "=================================================================\n",
            "embedding_1 (Embedding)      (None, 11, 100)           38600     \n",
            "_________________________________________________________________\n",
            "bidirectional (Bidirectional (None, 300)               301200    \n",
            "_________________________________________________________________\n",
            "dense_1 (Dense)              (None, 386)               116186    \n",
            "=================================================================\n",
            "Total params: 455,986\n",
            "Trainable params: 455,986\n",
            "Non-trainable params: 0\n",
            "_________________________________________________________________\n"
          ],
          "name": "stdout"
        }
      ]
    },
    {
      "cell_type": "markdown",
      "metadata": {
        "id": "ELDZQ-Oa35zm",
        "colab_type": "text"
      },
      "source": [
        "&#x270d; Compile and fit your model."
      ]
    },
    {
      "cell_type": "code",
      "metadata": {
        "id": "QHsZmDTO35zn",
        "colab_type": "code",
        "outputId": "c787ec5f-16b1-452f-8886-356de2061673",
        "colab": {
          "base_uri": "https://localhost:8080/",
          "height": 374
        }
      },
      "source": [
        "model.compile(loss= 'categorical_crossentropy', optimizer='adam', metrics=['accuracy'])\n",
        "history = model.fit(X,y, epochs=10, verbose=1)"
      ],
      "execution_count": 0,
      "outputs": [
        {
          "output_type": "stream",
          "text": [
            "Train on 748 samples\n",
            "Epoch 1/10\n",
            "748/748 [==============================] - 3s 3ms/sample - loss: 5.8933 - acc: 0.0401\n",
            "Epoch 2/10\n",
            "748/748 [==============================] - 2s 2ms/sample - loss: 5.5414 - acc: 0.0521\n",
            "Epoch 3/10\n",
            "748/748 [==============================] - 2s 2ms/sample - loss: 5.4058 - acc: 0.0521\n",
            "Epoch 4/10\n",
            "748/748 [==============================] - 2s 2ms/sample - loss: 5.3352 - acc: 0.0548\n",
            "Epoch 5/10\n",
            "748/748 [==============================] - 2s 2ms/sample - loss: 5.2367 - acc: 0.0642\n",
            "Epoch 6/10\n",
            "748/748 [==============================] - 2s 2ms/sample - loss: 5.0956 - acc: 0.0695\n",
            "Epoch 7/10\n",
            "748/748 [==============================] - 2s 2ms/sample - loss: 4.9549 - acc: 0.0735\n",
            "Epoch 8/10\n",
            "748/748 [==============================] - 2s 2ms/sample - loss: 4.7988 - acc: 0.0789\n",
            "Epoch 9/10\n",
            "748/748 [==============================] - 2s 2ms/sample - loss: 4.6512 - acc: 0.0829\n",
            "Epoch 10/10\n",
            "748/748 [==============================] - 2s 2ms/sample - loss: 4.5279 - acc: 0.0896\n"
          ],
          "name": "stdout"
        }
      ]
    },
    {
      "cell_type": "markdown",
      "metadata": {
        "id": "SywoXLEq35zq",
        "colab_type": "text"
      },
      "source": [
        "&#x270d; Plotting loss and accuracy over training epochs."
      ]
    },
    {
      "cell_type": "code",
      "metadata": {
        "id": "izN3OfVD35zq",
        "colab_type": "code",
        "outputId": "7ecb7c33-0c74-4d3b-c285-93d3d7fa7e9e",
        "colab": {
          "base_uri": "https://localhost:8080/",
          "height": 408
        }
      },
      "source": [
        "plot_model(history)"
      ],
      "execution_count": 0,
      "outputs": [
        {
          "output_type": "display_data",
          "data": {
            "image/png": "[encoded data removed]",
            "text/plain": [
              "<Figure size 1008x432 with 2 Axes>"
            ]
          },
          "metadata": {
            "tags": []
          }
        }
      ]
    },
    {
      "cell_type": "markdown",
      "metadata": {
        "id": "CaivqNfP35zs",
        "colab_type": "text"
      },
      "source": [
        "&#x270d; Generating words for the given seed text."
      ]
    },
    {
      "cell_type": "code",
      "metadata": {
        "id": "LLLZKmfq35zt",
        "colab_type": "code",
        "outputId": "2deb29b5-aca5-45ac-d7bd-81f15e92bb2d",
        "colab": {
          "base_uri": "https://localhost:8080/",
          "height": 54
        }
      },
      "source": [
        "seed_text = \"I'm suffering in this dearth\"\n",
        "next_words = 50\n",
        "\n",
        "for _ in range(next_words):\n",
        "    # Create a token lists using tokenizer text sequences of the seed text\n",
        "    token_list = tokenizer.texts_to_sequences([seed_text])[0]\n",
        "    \n",
        "    # Pre-pad the token list with the length of max_sequence_length-1\n",
        "    token_list_padded = pad_sequences([token_list], maxlen= max_sequence_length-1, padding= 'pre')\n",
        "    \n",
        "    # Predict the classe for the given token list \n",
        "    predicted = model.predict_classes(token_list_padded, verbose=0)\n",
        "\n",
        "    # Turn the token back into a word and add that to the seed text\n",
        "    output_word = \"\"\n",
        "    for word, index in tokenizer.word_index.items():\n",
        "        if index == predicted:\n",
        "            output_word = word\n",
        "            break\n",
        "    seed_text += \" \" + output_word\n",
        "    \n",
        "print(seed_text)"
      ],
      "execution_count": 0,
      "outputs": [
        {
          "output_type": "stream",
          "text": [
            "I'm suffering in this dearth citizen the belly belly belly can can will were price can revenge us revenge us they will will were price can will will were price price price were price price price were price price price were price price price were price price price were price price price were price price\n"
          ],
          "name": "stdout"
        }
      ]
    }
  ]
}