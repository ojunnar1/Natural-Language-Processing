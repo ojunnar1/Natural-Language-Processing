{
  "nbformat": 4,
  "nbformat_minor": 0,
  "metadata": {
    "kernelspec": {
      "display_name": "Python 3",
      "language": "python",
      "name": "python3"
    },
    "language_info": {
      "codemirror_mode": {
        "name": "ipython",
        "version": 3
      },
      "file_extension": ".py",
      "mimetype": "text/x-python",
      "name": "python",
      "nbconvert_exporter": "python",
      "pygments_lexer": "ipython3",
      "version": "3.7.3"
    },
    "colab": {
      "name": " Sentiment_Analysis_IMDB.ipynb",
      "provenance": [],
      "collapsed_sections": []
    }
  },
  "cells": [
    {
      "cell_type": "markdown",
      "metadata": {
        "id": "pfB0toaH3K3d",
        "colab_type": "text"
      },
      "source": [
        "<h1 align=center><font size=5>Sentiment Analysis of IMDB Movie Reviews</font></h1>"
      ]
    },
    {
      "cell_type": "markdown",
      "metadata": {
        "id": "WDTY5NDq3K3g",
        "colab_type": "text"
      },
      "source": [
        "### Table of contents\n",
        "\n",
        "- [Data](#data)\n",
        "- [ANN](#ann)\n",
        "- [CNN](#cnn)\n",
        "- [LSTM](#lstm)\n",
        "- [Bidirectional LSTM ](#bilstm)\n",
        "- [CNN LSTM](#cnnlstm)"
      ]
    },
    {
      "cell_type": "markdown",
      "metadata": {
        "id": "zR2v1Pw23K3i",
        "colab_type": "text"
      },
      "source": [
        "### Data <a id=\"data\"></a>\n",
        "\n",
        "#### About IMDB movie reviews\n",
        "\n",
        "Dataset of 25,000 movies reviews from IMDB, labeled by sentiment (positive/negative). Reviews have been preprocessed, and each review is encoded as a sequence of word indexes (integers). For convenience, words are indexed by overall frequency in the dataset, so that for instance the integer \"3\" encodes the 3rd most frequent word in the data. This allows for quick filtering operations such as: \"only consider the top 10,000 most common words, but eliminate the top 20 most common words\". As a convention, \"0\" does not stand for a specific word, but instead is used to encode any unknown word."
      ]
    },
    {
      "cell_type": "markdown",
      "metadata": {
        "id": "ufEkJXsz3K3k",
        "colab_type": "text"
      },
      "source": [
        "#### Loading IMDB dataset\n",
        "\n",
        "&#x270d; Loading IMDB moview reviews dataset in keras with having the top 5,000 most common words."
      ]
    },
    {
      "cell_type": "code",
      "metadata": {
        "id": "0Q-660Vx3K3n",
        "colab_type": "code",
        "outputId": "53aab5d3-ddd9-440e-fa20-7ffaccf19686",
        "colab": {
          "base_uri": "https://localhost:8080/",
          "height": 51
        }
      },
      "source": [
        "from keras.datasets import imdb\n",
        "\n",
        "vocab_size = 5000 \n",
        "(X_train, y_train), (X_test, y_test) = imdb.load_data(num_words= vocab_size)\n",
        "\n",
        "print(len(X_train), 'train sequences')\n",
        "print(len(X_test), 'test sequences')"
      ],
      "execution_count": 0,
      "outputs": [
        {
          "output_type": "stream",
          "text": [
            "25000 train sequences\n",
            "25000 test sequences\n"
          ],
          "name": "stdout"
        }
      ]
    },
    {
      "cell_type": "markdown",
      "metadata": {
        "id": "2AfxJbUi3K3r",
        "colab_type": "text"
      },
      "source": [
        "&#x270d; Have a look at a sample of dataset. What are your observations?"
      ]
    },
    {
      "cell_type": "code",
      "metadata": {
        "id": "Dj-SUlGO3K3t",
        "colab_type": "code",
        "outputId": "6fe4a5fe-260e-4683-e7ab-76f9b7e316e9",
        "colab": {
          "base_uri": "https://localhost:8080/",
          "height": 54
        }
      },
      "source": [
        "print(X_train[0])"
      ],
      "execution_count": 0,
      "outputs": [
        {
          "output_type": "stream",
          "text": [
            "[1, 14, 22, 16, 43, 530, 973, 1622, 1385, 65, 458, 4468, 66, 3941, 4, 173, 36, 256, 5, 25, 100, 43, 838, 112, 50, 670, 2, 9, 35, 480, 284, 5, 150, 4, 172, 112, 167, 2, 336, 385, 39, 4, 172, 4536, 1111, 17, 546, 38, 13, 447, 4, 192, 50, 16, 6, 147, 2025, 19, 14, 22, 4, 1920, 4613, 469, 4, 22, 71, 87, 12, 16, 43, 530, 38, 76, 15, 13, 1247, 4, 22, 17, 515, 17, 12, 16, 626, 18, 2, 5, 62, 386, 12, 8, 316, 8, 106, 5, 4, 2223, 2, 16, 480, 66, 3785, 33, 4, 130, 12, 16, 38, 619, 5, 25, 124, 51, 36, 135, 48, 25, 1415, 33, 6, 22, 12, 215, 28, 77, 52, 5, 14, 407, 16, 82, 2, 8, 4, 107, 117, 2, 15, 256, 4, 2, 7, 3766, 5, 723, 36, 71, 43, 530, 476, 26, 400, 317, 46, 7, 4, 2, 1029, 13, 104, 88, 4, 381, 15, 297, 98, 32, 2071, 56, 26, 141, 6, 194, 2, 18, 4, 226, 22, 21, 134, 476, 26, 480, 5, 144, 30, 2, 18, 51, 36, 28, 224, 92, 25, 104, 4, 226, 65, 16, 38, 1334, 88, 12, 16, 283, 5, 16, 4472, 113, 103, 32, 15, 16, 2, 19, 178, 32]\n"
          ],
          "name": "stdout"
        }
      ]
    },
    {
      "cell_type": "markdown",
      "metadata": {
        "id": "sGXd0__j3K3w",
        "colab_type": "text"
      },
      "source": [
        "&#x270d; Converting the integers back to words"
      ]
    },
    {
      "cell_type": "code",
      "metadata": {
        "id": "ITB5Ytby3K3x",
        "colab_type": "code",
        "outputId": "1ddb42b0-6d1c-40e8-a9a2-09d974f1055f",
        "colab": {
          "base_uri": "https://localhost:8080/",
          "height": 54
        }
      },
      "source": [
        "word_index = imdb.get_word_index() \n",
        "\n",
        "INDEX_FROM = 3\n",
        "word_index = {key:(value+INDEX_FROM) for key,value in word_index.items()}\n",
        "word_index[\"<PAD>\"] = 0    # the padding token\n",
        "word_index[\"<START>\"] = 1  # the starting token\n",
        "word_index[\"<UNK>\"] = 2    # the unknown token\n",
        "\n",
        "reverse_word_index = {value:key for key, value in word_index.items()} \n",
        "\n",
        "def decode_review(text):\n",
        "    return ' '.join([reverse_word_index.get(i, '?') for i in text])\n",
        "\n",
        "decode_review(X_train[0])"
      ],
      "execution_count": 0,
      "outputs": [
        {
          "output_type": "execute_result",
          "data": {
            "text/plain": [
              "\"<START> this film was just brilliant casting location scenery story direction everyone's really suited the part they played and you could just imagine being there robert <UNK> is an amazing actor and now the same being director <UNK> father came from the same scottish island as myself so i loved the fact there was a real connection with this film the witty remarks throughout the film were great it was just brilliant so much that i bought the film as soon as it was released for <UNK> and would recommend it to everyone to watch and the fly <UNK> was amazing really cried at the end it was so sad and you know what they say if you cry at a film it must have been good and this definitely was also <UNK> to the two little <UNK> that played the <UNK> of norman and paul they were just brilliant children are often left out of the <UNK> list i think because the stars that play them all grown up are such a big <UNK> for the whole film but these children are amazing and should be <UNK> for what they have done don't you think the whole story was so lovely because it was true and was someone's life after all that was <UNK> with us all\""
            ]
          },
          "metadata": {
            "tags": []
          },
          "execution_count": 42
        }
      ]
    },
    {
      "cell_type": "markdown",
      "metadata": {
        "id": "lRgfS3yl3K32",
        "colab_type": "text"
      },
      "source": [
        "#### Truncating and padding the data.\n",
        "\n",
        "&#x270d; Truncate and pad the review sequences with maximum length of all review sequences to be 500."
      ]
    },
    {
      "cell_type": "code",
      "metadata": {
        "id": "5nzukl_E9VOk",
        "colab_type": "code",
        "outputId": "d51ca984-80f9-4dcf-d0eb-6d48cddd1e67",
        "colab": {
          "base_uri": "https://localhost:8080/",
          "height": 34
        }
      },
      "source": [
        "X_train.shape"
      ],
      "execution_count": 0,
      "outputs": [
        {
          "output_type": "execute_result",
          "data": {
            "text/plain": [
              "(25000,)"
            ]
          },
          "metadata": {
            "tags": []
          },
          "execution_count": 16
        }
      ]
    },
    {
      "cell_type": "code",
      "metadata": {
        "id": "iwdWz7rT9Y0p",
        "colab_type": "code",
        "outputId": "cb0fbaa3-a2ef-425b-a6a9-ed40196365e0",
        "colab": {
          "base_uri": "https://localhost:8080/",
          "height": 34
        }
      },
      "source": [
        "len(max(X_train,key=lambda i: len(i)))"
      ],
      "execution_count": 0,
      "outputs": [
        {
          "output_type": "execute_result",
          "data": {
            "text/plain": [
              "2494"
            ]
          },
          "metadata": {
            "tags": []
          },
          "execution_count": 43
        }
      ]
    },
    {
      "cell_type": "code",
      "metadata": {
        "id": "Ji3HFrCx3K34",
        "colab_type": "code",
        "outputId": "77ce8018-7d0f-4869-e317-1ab02acc3e11",
        "colab": {
          "base_uri": "https://localhost:8080/",
          "height": 51
        }
      },
      "source": [
        "from keras.preprocessing.sequence import pad_sequences\n",
        "\n",
        "max_length = 500 # maximum length of all review sequences\n",
        "\n",
        "X_train = pad_sequences(X_train, value = word_index[\"<PAD>\"], padding='post', maxlen= max_length)\n",
        "X_test = pad_sequences(X_test, value = word_index[\"<PAD>\"], padding = 'post', maxlen=max_length)\n",
        "\n",
        "print('X_train shape:', X_train.shape) # (n_samples, sequence_length)\n",
        "print('X_test shape:', X_test.shape)"
      ],
      "execution_count": 0,
      "outputs": [
        {
          "output_type": "stream",
          "text": [
            "X_train shape: (25000, 500)\n",
            "X_test shape: (25000, 500)\n"
          ],
          "name": "stdout"
        }
      ]
    },
    {
      "cell_type": "markdown",
      "metadata": {
        "id": "b24LYX5o3K37",
        "colab_type": "text"
      },
      "source": [
        "&#x270d; Observing the sample of dataset."
      ]
    },
    {
      "cell_type": "code",
      "metadata": {
        "id": "-Ere0x383K38",
        "colab_type": "code",
        "outputId": "1605fedb-bd21-4fcc-faf7-eb04f95c5223",
        "colab": {
          "base_uri": "https://localhost:8080/",
          "height": 629
        }
      },
      "source": [
        "print(X_train[0])"
      ],
      "execution_count": 0,
      "outputs": [
        {
          "output_type": "stream",
          "text": [
            "[   1   14   22   16   43  530  973 1622 1385   65  458 4468   66 3941\n",
            "    4  173   36  256    5   25  100   43  838  112   50  670    2    9\n",
            "   35  480  284    5  150    4  172  112  167    2  336  385   39    4\n",
            "  172 4536 1111   17  546   38   13  447    4  192   50   16    6  147\n",
            " 2025   19   14   22    4 1920 4613  469    4   22   71   87   12   16\n",
            "   43  530   38   76   15   13 1247    4   22   17  515   17   12   16\n",
            "  626   18    2    5   62  386   12    8  316    8  106    5    4 2223\n",
            "    2   16  480   66 3785   33    4  130   12   16   38  619    5   25\n",
            "  124   51   36  135   48   25 1415   33    6   22   12  215   28   77\n",
            "   52    5   14  407   16   82    2    8    4  107  117    2   15  256\n",
            "    4    2    7 3766    5  723   36   71   43  530  476   26  400  317\n",
            "   46    7    4    2 1029   13  104   88    4  381   15  297   98   32\n",
            " 2071   56   26  141    6  194    2   18    4  226   22   21  134  476\n",
            "   26  480    5  144   30    2   18   51   36   28  224   92   25  104\n",
            "    4  226   65   16   38 1334   88   12   16  283    5   16 4472  113\n",
            "  103   32   15   16    2   19  178   32    0    0    0    0    0    0\n",
            "    0    0    0    0    0    0    0    0    0    0    0    0    0    0\n",
            "    0    0    0    0    0    0    0    0    0    0    0    0    0    0\n",
            "    0    0    0    0    0    0    0    0    0    0    0    0    0    0\n",
            "    0    0    0    0    0    0    0    0    0    0    0    0    0    0\n",
            "    0    0    0    0    0    0    0    0    0    0    0    0    0    0\n",
            "    0    0    0    0    0    0    0    0    0    0    0    0    0    0\n",
            "    0    0    0    0    0    0    0    0    0    0    0    0    0    0\n",
            "    0    0    0    0    0    0    0    0    0    0    0    0    0    0\n",
            "    0    0    0    0    0    0    0    0    0    0    0    0    0    0\n",
            "    0    0    0    0    0    0    0    0    0    0    0    0    0    0\n",
            "    0    0    0    0    0    0    0    0    0    0    0    0    0    0\n",
            "    0    0    0    0    0    0    0    0    0    0    0    0    0    0\n",
            "    0    0    0    0    0    0    0    0    0    0    0    0    0    0\n",
            "    0    0    0    0    0    0    0    0    0    0    0    0    0    0\n",
            "    0    0    0    0    0    0    0    0    0    0    0    0    0    0\n",
            "    0    0    0    0    0    0    0    0    0    0    0    0    0    0\n",
            "    0    0    0    0    0    0    0    0    0    0    0    0    0    0\n",
            "    0    0    0    0    0    0    0    0    0    0    0    0    0    0\n",
            "    0    0    0    0    0    0    0    0    0    0    0    0    0    0\n",
            "    0    0    0    0    0    0    0    0    0    0]\n"
          ],
          "name": "stdout"
        }
      ]
    },
    {
      "cell_type": "markdown",
      "metadata": {
        "id": "RvaTXLj_3K3-",
        "colab_type": "text"
      },
      "source": [
        "###  ANN <a id=\"ann\"></a>"
      ]
    },
    {
      "cell_type": "markdown",
      "metadata": {
        "id": "6ADgPymT3K3_",
        "colab_type": "text"
      },
      "source": [
        "&#x270d; Creating the model."
      ]
    },
    {
      "cell_type": "code",
      "metadata": {
        "id": "5V4peeUr3K4A",
        "colab_type": "code",
        "outputId": "72041f05-3e11-4cff-ece2-0fc91242e419",
        "colab": {
          "base_uri": "https://localhost:8080/",
          "height": 289
        }
      },
      "source": [
        "from keras.models import Sequential\n",
        "from keras.layers import Embedding, Flatten, Dense\n",
        "\n",
        "embedding_dim = 16\n",
        "\n",
        "model = Sequential()\n",
        "\n",
        "model.add(Embedding(vocab_size, embedding_dim, input_length= max_length))\n",
        "model.add(Flatten())\n",
        "\n",
        "model.add(Dense(units =16, activation ='relu'))\n",
        "\n",
        "model.add(Dense(units =1, activation ='sigmoid'))\n",
        "\n",
        "model.summary()"
      ],
      "execution_count": 0,
      "outputs": [
        {
          "output_type": "stream",
          "text": [
            "Model: \"sequential_7\"\n",
            "_________________________________________________________________\n",
            "Layer (type)                 Output Shape              Param #   \n",
            "=================================================================\n",
            "embedding_7 (Embedding)      (None, 500, 16)           80000     \n",
            "_________________________________________________________________\n",
            "flatten_4 (Flatten)          (None, 8000)              0         \n",
            "_________________________________________________________________\n",
            "dense_10 (Dense)             (None, 16)                128016    \n",
            "_________________________________________________________________\n",
            "dense_11 (Dense)             (None, 1)                 17        \n",
            "=================================================================\n",
            "Total params: 208,033\n",
            "Trainable params: 208,033\n",
            "Non-trainable params: 0\n",
            "_________________________________________________________________\n"
          ],
          "name": "stdout"
        }
      ]
    },
    {
      "cell_type": "markdown",
      "metadata": {
        "id": "lliI6AG33K4D",
        "colab_type": "text"
      },
      "source": [
        "&#x270d; Compile and train the model. Considering 10% of training set for validation purpose."
      ]
    },
    {
      "cell_type": "code",
      "metadata": {
        "id": "P4D5snTA3K4F",
        "colab_type": "code",
        "outputId": "4aed0c35-b61e-4629-d2b9-35c96b92ead6",
        "colab": {
          "base_uri": "https://localhost:8080/",
          "height": 374
        }
      },
      "source": [
        "model.compile(loss='binary_crossentropy' ,\n",
        "              optimizer='adam' ,\n",
        "              metrics=['accuracy'] )\n",
        "\n",
        "batch_size = 32\n",
        "epochs = 10\n",
        "\n",
        "history = model.fit(X_train, y_train, batch_size= batch_size, epochs= epochs, validation_split=0.1)  "
      ],
      "execution_count": 0,
      "outputs": [
        {
          "output_type": "stream",
          "text": [
            "Train on 22500 samples, validate on 2500 samples\n",
            "Epoch 1/10\n",
            "22500/22500 [==============================] - 4s 186us/step - loss: 0.5052 - acc: 0.7081 - val_loss: 0.3215 - val_acc: 0.8704\n",
            "Epoch 2/10\n",
            "22500/22500 [==============================] - 4s 166us/step - loss: 0.2127 - acc: 0.9182 - val_loss: 0.3368 - val_acc: 0.8700\n",
            "Epoch 3/10\n",
            "22500/22500 [==============================] - 4s 166us/step - loss: 0.0856 - acc: 0.9734 - val_loss: 0.3992 - val_acc: 0.8604\n",
            "Epoch 4/10\n",
            "22500/22500 [==============================] - 4s 172us/step - loss: 0.0249 - acc: 0.9951 - val_loss: 0.5080 - val_acc: 0.8572\n",
            "Epoch 5/10\n",
            "22500/22500 [==============================] - 4s 174us/step - loss: 0.0068 - acc: 0.9994 - val_loss: 0.5960 - val_acc: 0.8648\n",
            "Epoch 6/10\n",
            "22500/22500 [==============================] - 4s 178us/step - loss: 0.0022 - acc: 0.9999 - val_loss: 0.6545 - val_acc: 0.8604\n",
            "Epoch 7/10\n",
            "22500/22500 [==============================] - 4s 174us/step - loss: 0.0012 - acc: 1.0000 - val_loss: 0.6940 - val_acc: 0.8620\n",
            "Epoch 8/10\n",
            "22500/22500 [==============================] - 4s 174us/step - loss: 6.0898e-04 - acc: 1.0000 - val_loss: 0.7284 - val_acc: 0.8608\n",
            "Epoch 9/10\n",
            "22500/22500 [==============================] - 4s 172us/step - loss: 2.9064e-04 - acc: 1.0000 - val_loss: 0.7687 - val_acc: 0.8608\n",
            "Epoch 10/10\n",
            "22500/22500 [==============================] - 4s 172us/step - loss: 1.6122e-04 - acc: 1.0000 - val_loss: 0.8062 - val_acc: 0.8616\n"
          ],
          "name": "stdout"
        }
      ]
    },
    {
      "cell_type": "markdown",
      "metadata": {
        "id": "YHwRxJTS3K4O",
        "colab_type": "text"
      },
      "source": [
        "&#x270d; Evaluate the model over test set."
      ]
    },
    {
      "cell_type": "code",
      "metadata": {
        "id": "9Pz0hycj3K4Q",
        "colab_type": "code",
        "outputId": "5212d355-2a09-4397-86f8-2ee807f1c35d",
        "colab": {
          "base_uri": "https://localhost:8080/",
          "height": 68
        }
      },
      "source": [
        "score, acc = model.evaluate(X_test, y_test)\n",
        "print('Test score:', score)\n",
        "print('Test accuracy:', acc)"
      ],
      "execution_count": 0,
      "outputs": [
        {
          "output_type": "stream",
          "text": [
            "25000/25000 [==============================] - 1s 38us/step\n",
            "Test score: 0.8137125681567192\n",
            "Test accuracy: 0.84716\n"
          ],
          "name": "stdout"
        }
      ]
    },
    {
      "cell_type": "markdown",
      "metadata": {
        "id": "-knHHRw-3K4W",
        "colab_type": "text"
      },
      "source": [
        "&#x270d; Plotting loss and accuracy metrics versus training epochs for both training and validation sets."
      ]
    },
    {
      "cell_type": "code",
      "metadata": {
        "id": "p9Sje2SZ3K4X",
        "colab_type": "code",
        "outputId": "70ec3928-2323-4b05-d3c7-c1ef9ccbe216",
        "colab": {
          "base_uri": "https://localhost:8080/",
          "height": 388
        }
      },
      "source": [
        "import matplotlib.pyplot as plt\n",
        "%matplotlib inline\n",
        "\n",
        "def plot_model(history):\n",
        "    loss_train = history.history['loss']\n",
        "    loss_vald = history.history['val_loss']\n",
        "    acc_train = history.history['acc']\n",
        "    acc_vald = history.history['val_acc']\n",
        "\n",
        "    epochs = range(1, len(loss_train)+1)\n",
        "\n",
        "\n",
        "    plt.figure(figsize=(14,6))\n",
        "    plt.subplot(1,2,1)\n",
        "    plt.plot(epochs,loss_train, 'r')\n",
        "    plt.plot(epochs, loss_vald, 'y')\n",
        "    plt.ylabel('Loss')\n",
        "    plt.xlabel('Epoch')\n",
        "    plt.legend(['Training', 'Validation'], loc='best')\n",
        "\n",
        "    plt.subplot(1,2,2)\n",
        "    plt.plot(epochs, acc_train, 'r')\n",
        "    plt.plot(epochs, acc_vald, 'g')\n",
        "    plt.ylabel('Accuracy')\n",
        "    plt.xlabel('Epoch')\n",
        "    plt.legend(['Training','Validation'], loc='best')\n",
        "    plt.show()\n",
        "\n",
        "\n",
        "plot_model(history)"
      ],
      "execution_count": 0,
      "outputs": [
        {
          "output_type": "display_data",
          "data": {
            "image/png": "[encoded data removed]",
            "text/plain": [
              "<Figure size 1008x432 with 2 Axes>"
            ]
          },
          "metadata": {
            "tags": []
          }
        }
      ]
    },
    {
      "cell_type": "markdown",
      "metadata": {
        "id": "ub6Y8yAS3K4d",
        "colab_type": "text"
      },
      "source": [
        "&#x270d; Retrieve the learned embeddings.\n",
        "\n",
        "1. Retrieve the word embeddings learned during training."
      ]
    },
    {
      "cell_type": "code",
      "metadata": {
        "id": "FJYHW3fI3K4f",
        "colab_type": "code",
        "outputId": "89364c39-674f-4f61-8718-7c8c358c5eea",
        "colab": {
          "base_uri": "https://localhost:8080/",
          "height": 34
        }
      },
      "source": [
        "embedding_layer = model.layers[0]\n",
        "\n",
        "weights = embedding_layer.get_weights()[0]\n",
        "\n",
        "print(weights.shape) # (vocab_size, embedding_dim)"
      ],
      "execution_count": 0,
      "outputs": [
        {
          "output_type": "stream",
          "text": [
            "(5000, 16)\n"
          ],
          "name": "stdout"
        }
      ]
    },
    {
      "cell_type": "markdown",
      "metadata": {
        "id": "GpPfdX1X3K4j",
        "colab_type": "text"
      },
      "source": [
        "2. Write the weights to disk containing the following files:\n",
        "    - a file of vectors (containing the embedding), \n",
        "    - a file of meta data (containing the words)."
      ]
    },
    {
      "cell_type": "code",
      "metadata": {
        "id": "videdV_S3K4m",
        "colab_type": "code",
        "colab": {}
      },
      "source": [
        "import io\n",
        "\n",
        "out_v = io.open('vecs.tsv', 'w', encoding = 'utf-8')\n",
        "out_m = io.open('meta.tsv', 'w', encoding = 'utf-8')\n",
        "\n",
        "for word_num in range(4, vocab_size):\n",
        "    word = reverse_word_index[word_num]\n",
        "    embeddings = weights[word_num]\n",
        "    out_m.write(word + '\\n')\n",
        "    out_v.write('\\t'.join([str(x) for x in embeddings]) + '\\n')\n",
        "out_v.close()\n",
        "out_m.close()"
      ],
      "execution_count": 0,
      "outputs": []
    },
    {
      "cell_type": "markdown",
      "metadata": {
        "id": "WSz1tm8j3K4s",
        "colab_type": "text"
      },
      "source": [
        "3. Visualizing the embeddings\n",
        "    - Open the [Embedding Projector](http://projector.tensorflow.org);\n",
        "    - Clicking on \"Load data\";\n",
        "    - And uploading the two files we created above: vecs.tsv and meta.tsv."
      ]
    },
    {
      "cell_type": "markdown",
      "metadata": {
        "id": "Bs44bd7K3K4t",
        "colab_type": "text"
      },
      "source": [
        "###  CNN <a id=\"cnn\"></a>"
      ]
    },
    {
      "cell_type": "code",
      "metadata": {
        "id": "4qFVflrN3K4t",
        "colab_type": "code",
        "outputId": "1902de37-59d5-4a61-caeb-4749e66a6dd0",
        "colab": {
          "base_uri": "https://localhost:8080/",
          "height": 391
        }
      },
      "source": [
        "from keras.models import Sequential\n",
        "from keras.layers import Embedding, Dropout, Conv1D, GlobalMaxPooling1D, Dense\n",
        "\n",
        "embedding_dim = 16\n",
        "\n",
        "model = Sequential()\n",
        "\n",
        "model.add(Embedding(vocab_size, embedding_dim, input_length=max_length))\n",
        "model.add(Dropout(0.2))\n",
        "model.add(Conv1D(filters =128, kernel_size=5, strides=1, padding='same', activation='relu'))\n",
        "model.add(GlobalMaxPooling1D())\n",
        "model.add(Dense(units=256, activation='relu'))\n",
        "model.add(Dropout(0.2))\n",
        "model.add(Dense(units=1, activation='sigmoid'))\n",
        "model.summary()"
      ],
      "execution_count": 0,
      "outputs": [
        {
          "output_type": "stream",
          "text": [
            "Model: \"sequential_8\"\n",
            "_________________________________________________________________\n",
            "Layer (type)                 Output Shape              Param #   \n",
            "=================================================================\n",
            "embedding_8 (Embedding)      (None, 500, 16)           80000     \n",
            "_________________________________________________________________\n",
            "dropout_3 (Dropout)          (None, 500, 16)           0         \n",
            "_________________________________________________________________\n",
            "conv1d_2 (Conv1D)            (None, 500, 128)          10368     \n",
            "_________________________________________________________________\n",
            "global_max_pooling1d_2 (Glob (None, 128)               0         \n",
            "_________________________________________________________________\n",
            "dense_12 (Dense)             (None, 256)               33024     \n",
            "_________________________________________________________________\n",
            "dropout_4 (Dropout)          (None, 256)               0         \n",
            "_________________________________________________________________\n",
            "dense_13 (Dense)             (None, 1)                 257       \n",
            "=================================================================\n",
            "Total params: 123,649\n",
            "Trainable params: 123,649\n",
            "Non-trainable params: 0\n",
            "_________________________________________________________________\n"
          ],
          "name": "stdout"
        }
      ]
    },
    {
      "cell_type": "code",
      "metadata": {
        "id": "srpsyDc_3K4x",
        "colab_type": "code",
        "outputId": "84f8e76c-e35b-4ab4-8bf8-f77114fffc0b",
        "colab": {
          "base_uri": "https://localhost:8080/",
          "height": 170
        }
      },
      "source": [
        "model.compile(loss='binary_crossentropy', optimizer='adam', metrics=['accuracy'])\n",
        "\n",
        "batch_size = 32\n",
        "epochs = 4\n",
        "\n",
        "history = model.fit(X_train, y_train, batch_size=batch_size, epochs=epochs, validation_split=0.1)         "
      ],
      "execution_count": 0,
      "outputs": [
        {
          "output_type": "stream",
          "text": [
            "Train on 22500 samples, validate on 2500 samples\n",
            "Epoch 1/4\n",
            "22500/22500 [==============================] - 33s 1ms/step - loss: 0.4735 - acc: 0.7483 - val_loss: 0.3252 - val_acc: 0.8656\n",
            "Epoch 2/4\n",
            "22500/22500 [==============================] - 32s 1ms/step - loss: 0.2674 - acc: 0.8900 - val_loss: 0.2680 - val_acc: 0.8968\n",
            "Epoch 3/4\n",
            "22500/22500 [==============================] - 32s 1ms/step - loss: 0.2062 - acc: 0.9180 - val_loss: 0.2711 - val_acc: 0.8944\n",
            "Epoch 4/4\n",
            "22500/22500 [==============================] - 32s 1ms/step - loss: 0.1671 - acc: 0.9378 - val_loss: 0.2733 - val_acc: 0.8964\n"
          ],
          "name": "stdout"
        }
      ]
    },
    {
      "cell_type": "code",
      "metadata": {
        "id": "SkXoIw123K40",
        "colab_type": "code",
        "outputId": "395ddd24-b4c0-4f56-9ac5-6238e0355fb3",
        "colab": {
          "base_uri": "https://localhost:8080/",
          "height": 388
        }
      },
      "source": [
        "plot_model(history)"
      ],
      "execution_count": 0,
      "outputs": [
        {
          "output_type": "display_data",
          "data": {
            "image/png": "[encoded data removed]",
            "text/plain": [
              "<Figure size 1008x432 with 2 Axes>"
            ]
          },
          "metadata": {
            "tags": []
          }
        }
      ]
    },
    {
      "cell_type": "code",
      "metadata": {
        "id": "EyixC9Ym3K44",
        "colab_type": "code",
        "outputId": "6f8e5312-4759-4d48-fa55-48be87138ece",
        "colab": {
          "base_uri": "https://localhost:8080/",
          "height": 68
        }
      },
      "source": [
        "score, acc = model.evaluate(X_test, y_test)\n",
        "print('Test score:', score)\n",
        "print('Test accuracy:', acc)"
      ],
      "execution_count": 0,
      "outputs": [
        {
          "output_type": "stream",
          "text": [
            "25000/25000 [==============================] - 8s 309us/step\n",
            "Test score: 0.2705240497159958\n",
            "Test accuracy: 0.8938\n"
          ],
          "name": "stdout"
        }
      ]
    },
    {
      "cell_type": "markdown",
      "metadata": {
        "id": "sYcvDVaZ3K4_",
        "colab_type": "text"
      },
      "source": [
        "###  LSTM <a id=\"lstm\"></a>"
      ]
    },
    {
      "cell_type": "code",
      "metadata": {
        "id": "q6v4IIDa3K5C",
        "colab_type": "code",
        "outputId": "3c4d658d-de52-4d25-c536-54ab13314a21",
        "colab": {
          "base_uri": "https://localhost:8080/",
          "height": 255
        }
      },
      "source": [
        "from keras.layers import LSTM\n",
        "model = Sequential()\n",
        "model.add(Embedding(vocab_size, embedding_dim, input_length= max_length, mask_zero=True))\n",
        "#model.add(Dropout(0.2))\n",
        "model.add(LSTM(4, dropout=0.2, recurrent_dropout=0.2))\n",
        "model.add(Dense(1, activation='sigmoid'))\n",
        "model.summary()\n"
      ],
      "execution_count": 0,
      "outputs": [
        {
          "output_type": "stream",
          "text": [
            "Model: \"sequential_9\"\n",
            "_________________________________________________________________\n",
            "Layer (type)                 Output Shape              Param #   \n",
            "=================================================================\n",
            "embedding_9 (Embedding)      (None, 500, 16)           80000     \n",
            "_________________________________________________________________\n",
            "lstm_2 (LSTM)                (None, 4)                 336       \n",
            "_________________________________________________________________\n",
            "dense_14 (Dense)             (None, 1)                 5         \n",
            "=================================================================\n",
            "Total params: 80,341\n",
            "Trainable params: 80,341\n",
            "Non-trainable params: 0\n",
            "_________________________________________________________________\n"
          ],
          "name": "stdout"
        }
      ]
    },
    {
      "cell_type": "code",
      "metadata": {
        "id": "MC8a3UIU3K5G",
        "colab_type": "code",
        "outputId": "023fb251-2d5a-40d3-efc1-68d9c22fd5f6",
        "colab": {
          "base_uri": "https://localhost:8080/",
          "height": 374
        }
      },
      "source": [
        "model.compile(loss='binary_crossentropy',optimizer='adam', metrics=['accuracy'])\n",
        "batch_size= 32\n",
        "epochs =10\n",
        "\n",
        "history = model.fit(X_train, y_train, batch_size=batch_size, epochs=epochs, validation_split=0.1)"
      ],
      "execution_count": 0,
      "outputs": [
        {
          "output_type": "stream",
          "text": [
            "Train on 22500 samples, validate on 2500 samples\n",
            "Epoch 1/10\n",
            "22500/22500 [==============================] - 254s 11ms/step - loss: 0.5897 - acc: 0.7246 - val_loss: 0.5238 - val_acc: 0.7884\n",
            "Epoch 2/10\n",
            "22500/22500 [==============================] - 256s 11ms/step - loss: 0.4519 - acc: 0.8076 - val_loss: 0.4584 - val_acc: 0.7936\n",
            "Epoch 3/10\n",
            "22500/22500 [==============================] - 250s 11ms/step - loss: 0.3908 - acc: 0.8328 - val_loss: 0.4104 - val_acc: 0.8164\n",
            "Epoch 4/10\n",
            "22500/22500 [==============================] - 248s 11ms/step - loss: 0.3625 - acc: 0.8480 - val_loss: 0.4210 - val_acc: 0.8064\n",
            "Epoch 5/10\n",
            "22500/22500 [==============================] - 236s 11ms/step - loss: 0.3352 - acc: 0.8640 - val_loss: 0.4169 - val_acc: 0.8160\n",
            "Epoch 6/10\n",
            "22500/22500 [==============================] - 233s 10ms/step - loss: 0.3248 - acc: 0.8664 - val_loss: 0.4153 - val_acc: 0.8080\n",
            "Epoch 7/10\n",
            "22500/22500 [==============================] - 235s 10ms/step - loss: 0.3038 - acc: 0.8767 - val_loss: 0.4179 - val_acc: 0.8172\n",
            "Epoch 8/10\n",
            "22500/22500 [==============================] - 232s 10ms/step - loss: 0.2963 - acc: 0.8814 - val_loss: 0.4391 - val_acc: 0.8008\n",
            "Epoch 9/10\n",
            "22500/22500 [==============================] - 232s 10ms/step - loss: 0.2866 - acc: 0.8846 - val_loss: 0.4239 - val_acc: 0.8040\n",
            "Epoch 10/10\n",
            "22500/22500 [==============================] - 230s 10ms/step - loss: 0.2640 - acc: 0.8967 - val_loss: 0.4347 - val_acc: 0.8108\n"
          ],
          "name": "stdout"
        }
      ]
    },
    {
      "cell_type": "code",
      "metadata": {
        "id": "wolwH7dC3K5I",
        "colab_type": "code",
        "outputId": "95605656-d4c6-47e8-a551-b99b2a652aad",
        "colab": {
          "base_uri": "https://localhost:8080/",
          "height": 388
        }
      },
      "source": [
        "plot_model(history)"
      ],
      "execution_count": 0,
      "outputs": [
        {
          "output_type": "display_data",
          "data": {
            "image/png": "[encoded data removed]",
            "text/plain": [
              "<Figure size 1008x432 with 2 Axes>"
            ]
          },
          "metadata": {
            "tags": []
          }
        }
      ]
    },
    {
      "cell_type": "code",
      "metadata": {
        "id": "6qHteP0Z3K5K",
        "colab_type": "code",
        "outputId": "4778ff82-8d75-44e6-b7f6-769f62844468",
        "colab": {
          "base_uri": "https://localhost:8080/",
          "height": 68
        }
      },
      "source": [
        "score, acc = model.evaluate(X_test, y_test)\n",
        "print('Test score:', score)\n",
        "print('Test accuracy:', acc)"
      ],
      "execution_count": 0,
      "outputs": [
        {
          "output_type": "stream",
          "text": [
            "25000/25000 [==============================] - 29s 1ms/step\n",
            "Test score: 0.42113648288726807\n",
            "Test accuracy: 0.81792\n"
          ],
          "name": "stdout"
        }
      ]
    },
    {
      "cell_type": "markdown",
      "metadata": {
        "id": "miWE1Epk3K5N",
        "colab_type": "text"
      },
      "source": [
        "### Bidirectional LSTM <a name=\"bilstm\"></a>"
      ]
    },
    {
      "cell_type": "code",
      "metadata": {
        "id": "3Yc6j5ZZ3K5P",
        "colab_type": "code",
        "outputId": "0f1e35d6-b19f-4d91-df5f-c1a36179e7b5",
        "colab": {
          "base_uri": "https://localhost:8080/",
          "height": 289
        }
      },
      "source": [
        "from keras.layers import Bidirectional\n",
        "\n",
        "model = Sequential()\n",
        "model.add(Embedding(vocab_size, embedding_dim, input_length=max_length))\n",
        "model.add(Bidirectional(LSTM(64)))\n",
        "model.add(Dropout(0.5))\n",
        "#model.add(Dense(10, activation='relu'))\n",
        "model.add(Dense(1, activation='sigmoid'))\n",
        "model.summary()"
      ],
      "execution_count": 0,
      "outputs": [
        {
          "output_type": "stream",
          "text": [
            "Model: \"sequential_10\"\n",
            "_________________________________________________________________\n",
            "Layer (type)                 Output Shape              Param #   \n",
            "=================================================================\n",
            "embedding_10 (Embedding)     (None, 500, 16)           80000     \n",
            "_________________________________________________________________\n",
            "bidirectional_1 (Bidirection (None, 128)               41472     \n",
            "_________________________________________________________________\n",
            "dropout_5 (Dropout)          (None, 128)               0         \n",
            "_________________________________________________________________\n",
            "dense_15 (Dense)             (None, 1)                 129       \n",
            "=================================================================\n",
            "Total params: 121,601\n",
            "Trainable params: 121,601\n",
            "Non-trainable params: 0\n",
            "_________________________________________________________________\n"
          ],
          "name": "stdout"
        }
      ]
    },
    {
      "cell_type": "code",
      "metadata": {
        "id": "cfRZqNh83K5a",
        "colab_type": "code",
        "outputId": "f46666fa-c954-480b-9956-0c00c97e9c41",
        "colab": {
          "base_uri": "https://localhost:8080/",
          "height": 204
        }
      },
      "source": [
        "model.compile(loss='binary_crossentropy', optimizer='adam',metrics=['accuracy'])\n",
        "batch_size= 32\n",
        "epochs = 5\n",
        "history = model.fit(X_train, y_train, batch_size= batch_size, epochs=epochs, validation_split=0.1)"
      ],
      "execution_count": 0,
      "outputs": [
        {
          "output_type": "stream",
          "text": [
            "Train on 22500 samples, validate on 2500 samples\n",
            "Epoch 1/5\n",
            "22500/22500 [==============================] - 350s 16ms/step - loss: 0.6548 - acc: 0.6264 - val_loss: 0.6908 - val_acc: 0.4936\n",
            "Epoch 2/5\n",
            "22500/22500 [==============================] - 346s 15ms/step - loss: 0.6790 - acc: 0.5667 - val_loss: 0.6237 - val_acc: 0.7060\n",
            "Epoch 3/5\n",
            "22500/22500 [==============================] - 348s 15ms/step - loss: 0.5902 - acc: 0.6856 - val_loss: 0.4773 - val_acc: 0.7832\n",
            "Epoch 4/5\n",
            "22500/22500 [==============================] - 349s 16ms/step - loss: 0.5419 - acc: 0.7395 - val_loss: 0.4907 - val_acc: 0.7892\n",
            "Epoch 5/5\n",
            "22500/22500 [==============================] - 346s 15ms/step - loss: 0.4356 - acc: 0.8133 - val_loss: 0.5749 - val_acc: 0.6912\n"
          ],
          "name": "stdout"
        }
      ]
    },
    {
      "cell_type": "code",
      "metadata": {
        "id": "04yFU6nM3K5c",
        "colab_type": "code",
        "outputId": "88ed5944-21e7-495e-ed17-5930eb89239b",
        "colab": {
          "base_uri": "https://localhost:8080/",
          "height": 388
        }
      },
      "source": [
        "plot_model(history)"
      ],
      "execution_count": 0,
      "outputs": [
        {
          "output_type": "display_data",
          "data": {
            "image/png": "[encoded data removed]",
            "text/plain": [
              "<Figure size 1008x432 with 2 Axes>"
            ]
          },
          "metadata": {
            "tags": []
          }
        }
      ]
    },
    {
      "cell_type": "code",
      "metadata": {
        "id": "3qTP3eIW3K5f",
        "colab_type": "code",
        "outputId": "1b30c90b-87a9-4b21-80c5-082c4aa68beb",
        "colab": {
          "base_uri": "https://localhost:8080/",
          "height": 68
        }
      },
      "source": [
        "score, acc = model.evaluate(X_test, y_test)\n",
        "print('Test score:', score)\n",
        "print('Test accuracy:', acc)"
      ],
      "execution_count": 0,
      "outputs": [
        {
          "output_type": "stream",
          "text": [
            "25000/25000 [==============================] - 60s 2ms/step\n",
            "Test score: 0.5828552572059631\n",
            "Test accuracy: 0.68512\n"
          ],
          "name": "stdout"
        }
      ]
    },
    {
      "cell_type": "markdown",
      "metadata": {
        "id": "1aynKYw-3K5i",
        "colab_type": "text"
      },
      "source": [
        "### CNN LSTM <a name=\"cnnlstm\"></a>"
      ]
    },
    {
      "cell_type": "code",
      "metadata": {
        "id": "ZF2akCJ93K5k",
        "colab_type": "code",
        "outputId": "8f32ff22-9a41-40a4-c469-ea659f81f66d",
        "colab": {
          "base_uri": "https://localhost:8080/",
          "height": 391
        }
      },
      "source": [
        "from keras.layers import MaxPooling1D, Activation\n",
        "\n",
        "model=Sequential()\n",
        "model.add(Embedding(vocab_size, embedding_dim, input_length= max_length))\n",
        "model.add(Dropout(0.25))\n",
        "model.add(Conv1D(filters=64, kernel_size=5, activation='relu', strides=1))\n",
        "model.add(MaxPooling1D(pool_size=4))\n",
        "model.add(LSTM(70))\n",
        "model.add(Dense(1, activation='sigmoid'))\n",
        "\n",
        "model.summary()"
      ],
      "execution_count": 0,
      "outputs": [
        {
          "output_type": "stream",
          "text": [
            "WARNING:tensorflow:From /usr/local/lib/python3.6/dist-packages/keras/backend/tensorflow_backend.py:4267: The name tf.nn.max_pool is deprecated. Please use tf.nn.max_pool2d instead.\n",
            "\n",
            "Model: \"sequential_13\"\n",
            "_________________________________________________________________\n",
            "Layer (type)                 Output Shape              Param #   \n",
            "=================================================================\n",
            "embedding_13 (Embedding)     (None, 500, 16)           80000     \n",
            "_________________________________________________________________\n",
            "dropout_8 (Dropout)          (None, 500, 16)           0         \n",
            "_________________________________________________________________\n",
            "conv1d_4 (Conv1D)            (None, 496, 64)           5184      \n",
            "_________________________________________________________________\n",
            "max_pooling1d_1 (MaxPooling1 (None, 124, 64)           0         \n",
            "_________________________________________________________________\n",
            "lstm_4 (LSTM)                (None, 70)                37800     \n",
            "_________________________________________________________________\n",
            "dense_16 (Dense)             (None, 1)                 71        \n",
            "=================================================================\n",
            "Total params: 123,055\n",
            "Trainable params: 123,055\n",
            "Non-trainable params: 0\n",
            "_________________________________________________________________\n"
          ],
          "name": "stdout"
        }
      ]
    },
    {
      "cell_type": "code",
      "metadata": {
        "id": "LYl8b8JO3K5m",
        "colab_type": "code",
        "outputId": "03538967-de00-4124-fcb1-6102b5686ffd",
        "colab": {
          "base_uri": "https://localhost:8080/",
          "height": 204
        }
      },
      "source": [
        "model.compile(loss='binary_crossentropy', optimizer='adam', metrics=['accuracy'])\n",
        "batch_size=32\n",
        "epochs=5\n",
        "\n",
        "history = model.fit(X_train,y_train, batch_size=batch_size, epochs=epochs, validation_split=0.1)"
      ],
      "execution_count": 0,
      "outputs": [
        {
          "output_type": "stream",
          "text": [
            "Train on 22500 samples, validate on 2500 samples\n",
            "Epoch 1/5\n",
            "22500/22500 [==============================] - 88s 4ms/step - loss: 0.6918 - acc: 0.5105 - val_loss: 0.6972 - val_acc: 0.5248\n",
            "Epoch 2/5\n",
            "22500/22500 [==============================] - 88s 4ms/step - loss: 0.6668 - acc: 0.5711 - val_loss: 0.5932 - val_acc: 0.7388\n",
            "Epoch 3/5\n",
            "22500/22500 [==============================] - 86s 4ms/step - loss: 0.5219 - acc: 0.7114 - val_loss: 0.3426 - val_acc: 0.8540\n",
            "Epoch 4/5\n",
            "22500/22500 [==============================] - 88s 4ms/step - loss: 0.2957 - acc: 0.8818 - val_loss: 0.2993 - val_acc: 0.8720\n",
            "Epoch 5/5\n",
            "22500/22500 [==============================] - 89s 4ms/step - loss: 0.2348 - acc: 0.9101 - val_loss: 0.2832 - val_acc: 0.8804\n"
          ],
          "name": "stdout"
        }
      ]
    },
    {
      "cell_type": "code",
      "metadata": {
        "id": "r5k6Ee7W3K5o",
        "colab_type": "code",
        "outputId": "a635391c-5874-463e-ed0d-68248e32b7f9",
        "colab": {
          "base_uri": "https://localhost:8080/",
          "height": 388
        }
      },
      "source": [
        "plot_model(history)"
      ],
      "execution_count": 0,
      "outputs": [
        {
          "output_type": "display_data",
          "data": {
            "image/png": "[encoded data removed]",
            "text/plain": [
              "<Figure size 1008x432 with 2 Axes>"
            ]
          },
          "metadata": {
            "tags": []
          }
        }
      ]
    },
    {
      "cell_type": "code",
      "metadata": {
        "id": "NDaO4Za63K5r",
        "colab_type": "code",
        "outputId": "affb9690-4f11-41c1-c5cf-8d5efef09779",
        "colab": {
          "base_uri": "https://localhost:8080/",
          "height": 68
        }
      },
      "source": [
        "score, acc = model.evaluate(X_test, y_test)\n",
        "print('Test score:', score)\n",
        "print('Test accuracy:', acc)"
      ],
      "execution_count": 0,
      "outputs": [
        {
          "output_type": "stream",
          "text": [
            "25000/25000 [==============================] - 20s 782us/step\n",
            "Test score: 0.28147302247524264\n",
            "Test accuracy: 0.88288\n"
          ],
          "name": "stdout"
        }
      ]
    }
  ]
}